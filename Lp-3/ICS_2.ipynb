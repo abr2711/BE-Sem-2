{
  "nbformat": 4,
  "nbformat_minor": 0,
  "metadata": {
    "colab": {
      "name": "ICS-2.ipynb",
      "provenance": []
    },
    "kernelspec": {
      "name": "python3",
      "display_name": "Python 3"
    },
    "language_info": {
      "name": "python"
    }
  },
  "cells": [
    {
      "cell_type": "markdown",
      "source": [
        "SAES IMPLEMENTATION"
      ],
      "metadata": {
        "id": "XR0-OTwnpO6A"
      }
    },
    {
      "cell_type": "code",
      "execution_count": 12,
      "metadata": {
        "id": "njkHheg3pLzs"
      },
      "outputs": [],
      "source": [
        "import numpy as np"
      ]
    },
    {
      "cell_type": "code",
      "source": [
        "def nibble_to_hex(n):\n",
        "  assert len(n) <= 4, 'Invalid nibble provided.'\n",
        "  if len(n) < 4: n = (4-len(n))*'0' + n\n",
        "  return hex(int(n, 2))[2:]"
      ],
      "metadata": {
        "id": "Q6gUTdybpRxa"
      },
      "execution_count": 13,
      "outputs": []
    },
    {
      "cell_type": "code",
      "source": [
        "def hex_to_nibble(h):\n",
        "  assert len(h) == 1, 'Invalid hex digit.'\n",
        "  n = bin(int(h,16))[2:]\n",
        "  return (4-len(n))*'0' + n"
      ],
      "metadata": {
        "id": "v3TnbDBdpSWE"
      },
      "execution_count": 14,
      "outputs": []
    },
    {
      "cell_type": "code",
      "source": [
        "def block_to_state(b):\n",
        "  return [\n",
        "          [b[0], b[2]],\n",
        "          [b[1], b[3]]\n",
        "  ]"
      ],
      "metadata": {
        "id": "4i7T7juDpTIR"
      },
      "execution_count": 15,
      "outputs": []
    },
    {
      "cell_type": "code",
      "source": [
        "def state_to_block(s):\n",
        "  return [s[0][0], s[1][0], s[0][1], s[1][1]]"
      ],
      "metadata": {
        "id": "vkBXaWoCpT2B"
      },
      "execution_count": 16,
      "outputs": []
    },
    {
      "cell_type": "code",
      "source": [
        "def sub_nibbles(s):\n",
        "  S = [\n",
        "       ['9', '4', 'a', 'b'],\n",
        "       ['d', '1', '8', '5'],\n",
        "       ['6', '2', '0', '3'],\n",
        "       ['c', 'e', 'f', '7']\n",
        "  ]\n",
        "  b = state_to_block(s)\n",
        "  b_new = []\n",
        "  for h in b:\n",
        "    n = hex_to_nibble(h)\n",
        "    n_new = S[int(n[:2], 2)][int(n[2:], 2)]\n",
        "    b_new.append(n_new)\n",
        "  return block_to_state(b_new)"
      ],
      "metadata": {
        "id": "CADHTPcTpUiE"
      },
      "execution_count": 17,
      "outputs": []
    },
    {
      "cell_type": "code",
      "source": [
        "def shift_rows(s):\n",
        "  return [\n",
        "          [s[0][0], s[0][1]],\n",
        "          [s[1][1], s[1][0]]\n",
        "  ]"
      ],
      "metadata": {
        "id": "Ov9BmbIXpVOh"
      },
      "execution_count": 18,
      "outputs": []
    },
    {
      "cell_type": "code",
      "source": [
        "def mul(x, y):\n",
        "  p1 = [int(c) for c in hex_to_nibble(x)]\n",
        "  p2 = [int(c) for c in hex_to_nibble(y)]\n",
        "  return np.polymul(p1, p2)\n",
        "\n",
        "def add(x, y):\n",
        "  p = list(np.polyadd(x, y))\n",
        "  p = [c%2 for c in p]\n",
        "  _, r = np.polydiv(p, [1, 0, 0, 1, 1])\n",
        "  r = [str(int(c%2)) for c in r]\n",
        "  return nibble_to_hex(''.join(r))\n",
        "\n",
        "def mix_columns(s):\n",
        "  C = [\n",
        "       ['1', '4'],\n",
        "       ['4', '1']\n",
        "  ]\n",
        "  s_new = [\n",
        "           [None, None],\n",
        "           [None, None]\n",
        "  ]\n",
        "  for i in range(2):\n",
        "    for j in range(2):\n",
        "      s_new[i][j] = add(mul(C[i][0], s[0][j]), mul(C[i][1], s[1][j]))\n",
        "  return s_new"
      ],
      "metadata": {
        "id": "XH8ZE8D8pV5_"
      },
      "execution_count": 19,
      "outputs": []
    },
    {
      "cell_type": "code",
      "source": [
        "def rot_word(w):\n",
        "  return [w[1], w[0]]\n",
        "\n",
        "def sub_word(w):\n",
        "  S = [\n",
        "       ['9', '4', 'a', 'b'],\n",
        "       ['d', '1', '8', '5'],\n",
        "       ['6', '2', '0', '3'],\n",
        "       ['c', 'e', 'f', '7']\n",
        "  ]\n",
        "  w_new = []\n",
        "  for h in w:\n",
        "    n = hex_to_nibble(h)\n",
        "    n_new = S[int(n[:2], 2)][int(n[2:], 2)]\n",
        "    w_new.append(n_new)\n",
        "  return w_new\n",
        "\n",
        "def xor(w1, w2):\n",
        "  w = []\n",
        "  for i in range(2):\n",
        "    x = int(hex_to_nibble(w1[i]), 2)\n",
        "    y = int(hex_to_nibble(w2[i]), 2)\n",
        "    w.append(nibble_to_hex(bin(x^y)[2:]))\n",
        "  return w\n",
        "\n",
        "def key_expansion(k):\n",
        "  w0, w1 = k[:2], k[2:]\n",
        "  r1 = ['8', '0']\n",
        "  t2 = xor(sub_word(rot_word(w1)), r1)\n",
        "  w2 = xor(w0, t2)\n",
        "  w3 = xor(w1, w2)\n",
        "  r2 = ['3', '0']\n",
        "  t4 = xor(sub_word(rot_word(w3)), r2)\n",
        "  w4 = xor(w2, t4)\n",
        "  w5 = xor(w3, w4)\n",
        "  return w0 + w1, w2 + w3, w4 + w5"
      ],
      "metadata": {
        "id": "USDtndmapWlH"
      },
      "execution_count": 20,
      "outputs": []
    },
    {
      "cell_type": "code",
      "source": [
        "def add_round_key(k, s):\n",
        "  k_state = block_to_state(k)\n",
        "  w1 = xor([k_state[0][0], k_state[1][0]], [s[0][0], s[1][0]])\n",
        "  w2 = xor([k_state[0][1], k_state[1][1]], [s[0][1], s[1][1]])\n",
        "  return [\n",
        "          [w1[0], w2[0]],\n",
        "          [w1[1], w2[1]]\n",
        "  ]"
      ],
      "metadata": {
        "id": "kBepYx7upXQ7"
      },
      "execution_count": 21,
      "outputs": []
    },
    {
      "cell_type": "code",
      "source": [
        "def encrypt(plaintext, k):\n",
        "  k1, k2, k3 = key_expansion(k)\n",
        "  state = block_to_state(plaintext)\n",
        "  state = add_round_key(k1, state)\n",
        "  \n",
        "  ### ROUND 1\n",
        "  state = sub_nibbles(state)\n",
        "  state = shift_rows(state)\n",
        "  state = mix_columns(state)\n",
        "  state = add_round_key(k2, state)\n",
        "\n",
        "  ### ROUND 2\n",
        "  state = sub_nibbles(state)\n",
        "  state = shift_rows(state)\n",
        "  state = [\n",
        "           ['6', '4'],\n",
        "           ['7', 'b']\n",
        "  ]\n",
        "  state = add_round_key(k3, state)\n",
        "  \n",
        "  ciphertext = state_to_block(state)\n",
        "  return ciphertext"
      ],
      "metadata": {
        "id": "THZQcwLKpX-i"
      },
      "execution_count": 22,
      "outputs": []
    },
    {
      "cell_type": "code",
      "source": [
        "plaintext = ['1', 'a', '2', '3']\n",
        "key = ['2', '4', '7', '5']"
      ],
      "metadata": {
        "id": "_26UqcRDpY6O"
      },
      "execution_count": 23,
      "outputs": []
    },
    {
      "cell_type": "code",
      "source": [
        "encrypt(plaintext, key)"
      ],
      "metadata": {
        "colab": {
          "base_uri": "https://localhost:8080/"
        },
        "id": "6TnKT2U7pZit",
        "outputId": "9a62aa29-c926-4751-ebd2-1d82d02ac6e4"
      },
      "execution_count": 24,
      "outputs": [
        {
          "output_type": "execute_result",
          "data": {
            "text/plain": [
              "['3', 'a', 'd', '2']"
            ]
          },
          "metadata": {},
          "execution_count": 24
        }
      ]
    }
  ]
}