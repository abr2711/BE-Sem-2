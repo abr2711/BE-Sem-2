{
  "nbformat": 4,
  "nbformat_minor": 0,
  "metadata": {
    "colab": {
      "name": "ICS-3.ipynb",
      "provenance": []
    },
    "kernelspec": {
      "name": "python3",
      "display_name": "Python 3"
    },
    "language_info": {
      "name": "python"
    }
  },
  "cells": [
    {
      "cell_type": "markdown",
      "source": [
        "DIFFIE-HELLMAN KEY EXCHANGE"
      ],
      "metadata": {
        "id": "hx4mTG4TsM0S"
      }
    },
    {
      "cell_type": "code",
      "execution_count": 1,
      "metadata": {
        "id": "JK5Fq7AWsK2B"
      },
      "outputs": [],
      "source": [
        "### PUBLIC KEYS\n",
        "P = 17\n",
        "G = 27"
      ]
    },
    {
      "cell_type": "code",
      "source": [
        "### PRIVATE KEYS\n",
        "a = 13\n",
        "b = 9"
      ],
      "metadata": {
        "id": "-uf4uWC7sQx6"
      },
      "execution_count": 2,
      "outputs": []
    },
    {
      "cell_type": "code",
      "source": [
        "### GENERATE KEYS\n",
        "x = (G ** a) % P\n",
        "y = (G ** b) % P\n",
        "print(f'Generated Keys - x: {x}, y: {y}')"
      ],
      "metadata": {
        "colab": {
          "base_uri": "https://localhost:8080/"
        },
        "id": "79KcSAnhsRiF",
        "outputId": "c1946dbf-a2fa-4195-f214-e577e896cd8f"
      },
      "execution_count": 3,
      "outputs": [
        {
          "output_type": "stream",
          "name": "stdout",
          "text": [
            "Generated Keys - x: 11, y: 7\n"
          ]
        }
      ]
    },
    {
      "cell_type": "code",
      "source": [
        "### GENERATE SECRET KEY WITH x AND y\n",
        "key_a = (y ** a) % P\n",
        "key_b = (x ** b) % P\n",
        "print(f'Generated Secret Keys - KEY-A: {key_a}, KEY-B: {key_b}')"
      ],
      "metadata": {
        "colab": {
          "base_uri": "https://localhost:8080/"
        },
        "id": "6NnN7T-lsSRW",
        "outputId": "7dca1cd3-05ff-4023-ee12-edc2fb8abe0b"
      },
      "execution_count": 4,
      "outputs": [
        {
          "output_type": "stream",
          "name": "stdout",
          "text": [
            "Generated Secret Keys - KEY-A: 6, KEY-B: 6\n"
          ]
        }
      ]
    }
  ]
}