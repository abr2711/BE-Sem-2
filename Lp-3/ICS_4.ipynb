{
  "nbformat": 4,
  "nbformat_minor": 0,
  "metadata": {
    "colab": {
      "name": "ICS-4.ipynb",
      "provenance": []
    },
    "kernelspec": {
      "name": "python3",
      "display_name": "Python 3"
    },
    "language_info": {
      "name": "python"
    }
  },
  "cells": [
    {
      "cell_type": "markdown",
      "source": [
        "RSA"
      ],
      "metadata": {
        "id": "5SRRqb79s2JI"
      }
    },
    {
      "cell_type": "code",
      "execution_count": 1,
      "metadata": {
        "id": "mcBx5By9sjnj"
      },
      "outputs": [],
      "source": [
        "import numpy as np"
      ]
    },
    {
      "cell_type": "code",
      "source": [
        "class RSA:\n",
        "  def __init__(self):\n",
        "    self.P = 53\n",
        "    self.Q = 59\n",
        "    self.n = self.P * self.Q\n",
        "    self.phi = (self.P - 1) * (self.Q - 1)\n",
        "    self.e = 3\n",
        "    self.d = self.__generate_d()\n",
        "\n",
        "  def __get_random_prime(self):\n",
        "    primes = [3, 5, 7, 11, 13, 17, 19, 23, 29, 31, 37, 41, 43, 47, 53, 59, 61, 67, 71, 73, 79, 83, 89, 97]\n",
        "    return np.random.choice(primes)\n",
        "\n",
        "  def __generate_e(self):\n",
        "    for i in range(2, self.phi):\n",
        "      if self.n % i != 0: return i\n",
        "    return None\n",
        "\n",
        "  def __generate_d(self):\n",
        "    for k in range(1, self.phi):\n",
        "      if (k * self.phi + 1) % self.e == 0:\n",
        "        return int((k * self.phi + 1) / self.e)\n",
        "    return None\n",
        "\n",
        "  def get_public_key(self):\n",
        "    return self.n, self.e\n",
        "\n",
        "  def encrypt(self, plaintext):\n",
        "    return (plaintext ** self.e) % self.n\n",
        "\n",
        "  def decrypt(self, ciphertext):\n",
        "    return (ciphertext ** self.d) % self.n"
      ],
      "metadata": {
        "id": "fdLC0m7qs48z"
      },
      "execution_count": 2,
      "outputs": []
    },
    {
      "cell_type": "code",
      "source": [
        "enc = RSA()"
      ],
      "metadata": {
        "id": "X23b1zzOs52W"
      },
      "execution_count": 3,
      "outputs": []
    },
    {
      "cell_type": "code",
      "source": [
        "print(f'Public-Key: {enc.get_public_key()}')"
      ],
      "metadata": {
        "colab": {
          "base_uri": "https://localhost:8080/"
        },
        "id": "ROhdw-Yts6gl",
        "outputId": "cd5ae256-d1cf-436e-9e20-2e6a9d634531"
      },
      "execution_count": 4,
      "outputs": [
        {
          "output_type": "stream",
          "name": "stdout",
          "text": [
            "Public-Key: (3127, 3)\n"
          ]
        }
      ]
    },
    {
      "cell_type": "code",
      "source": [
        "plaintext = 89\n",
        "ciphertext = enc.encrypt(89)"
      ],
      "metadata": {
        "id": "qupPHoDVs7UN"
      },
      "execution_count": 5,
      "outputs": []
    },
    {
      "cell_type": "code",
      "source": [
        "print(f'Encrypted value of {plaintext}: {ciphertext}')"
      ],
      "metadata": {
        "colab": {
          "base_uri": "https://localhost:8080/"
        },
        "id": "nhe5Bppls8JZ",
        "outputId": "0e5567bd-1228-4097-e95f-3ffaf1023ce6"
      },
      "execution_count": 6,
      "outputs": [
        {
          "output_type": "stream",
          "name": "stdout",
          "text": [
            "Encrypted value of 89: 1394\n"
          ]
        }
      ]
    },
    {
      "cell_type": "code",
      "source": [
        "print(f'Decrypted value of {ciphertext}: {enc.decrypt(ciphertext)}')"
      ],
      "metadata": {
        "colab": {
          "base_uri": "https://localhost:8080/"
        },
        "id": "dgTalkhes8zr",
        "outputId": "d3bee7a5-590f-47cd-db01-8c65c0d16349"
      },
      "execution_count": 7,
      "outputs": [
        {
          "output_type": "stream",
          "name": "stdout",
          "text": [
            "Decrypted value of 1394: 89\n"
          ]
        }
      ]
    }
  ]
}