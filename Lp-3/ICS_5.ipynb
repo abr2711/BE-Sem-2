{
  "nbformat": 4,
  "nbformat_minor": 0,
  "metadata": {
    "colab": {
      "name": "ICS-5.ipynb",
      "provenance": []
    },
    "kernelspec": {
      "name": "python3",
      "display_name": "Python 3"
    },
    "language_info": {
      "name": "python"
    }
  },
  "cells": [
    {
      "cell_type": "markdown",
      "source": [
        "ECC"
      ],
      "metadata": {
        "id": "365IHEcHt1w3"
      }
    },
    {
      "cell_type": "code",
      "execution_count": 1,
      "metadata": {
        "id": "WG930uidttex"
      },
      "outputs": [],
      "source": [
        "class ECC:\n",
        "  def __init__(self, a, b, q, G):\n",
        "    ### CURVE EQUATION = x ** 3 + a * x + b\n",
        "    self.a = a\n",
        "    self.b = b\n",
        "    self.q = q\n",
        "    self.G = G\n",
        "    self.private_key = 5\n",
        "    self.public_key = self.__generate_public_key()\n",
        "\n",
        "  def __round(self, p):\n",
        "    x, y = p\n",
        "    if abs(x - int(x)) <= 0.0001: x = int(x)\n",
        "    if abs(y - int(y)) <= 0.0001: y = int(y)\n",
        "    return (x, y)\n",
        "  \n",
        "  def negate(self, p):\n",
        "    return (p[0], -p[1])\n",
        "\n",
        "  def add(self, p1, p2):\n",
        "    if p1 == p2:\n",
        "      x = ((3*p1[0]*p1[0] + self.a)/(2*p1[1]))**2 - 2*p1[0]\n",
        "      y = -p1[1] + (3*p1[0]*p1[0] + self.a)/(2*p1[1]) * (p1[0] - x)\n",
        "    else:\n",
        "      x = ((p2[1]-p1[1])/(p2[0]-p1[0]))**2 - p1[0] - p2[0]\n",
        "      y = -p1[1] + (p2[1]-p1[1])/(p2[0]-p1[0]) * (p1[0]-x)\n",
        "    return self.__round((x, y))\n",
        "\n",
        "  def sub(self, p1, p2):\n",
        "    return self.add(p1, self.negate(p2))\n",
        "\n",
        "  def dot(self, k, p):\n",
        "    res = (p[0], p[1])\n",
        "    for _ in range(k-1):\n",
        "      res = self.add(res, p)\n",
        "      res = self.negate(res)\n",
        "    return res\n",
        "\n",
        "  def __generate_public_key(self):\n",
        "    return self.dot(self.private_key, self.G)\n",
        "\n",
        "  def get_public_key(self):\n",
        "    return self.public_key\n",
        "\n",
        "  def generate_secret_key(self, public_key):\n",
        "    self.secret_key = self.dot(self.private_key, public_key)\n",
        "\n",
        "  def encrypt(self, message, public_key):\n",
        "    k = 3\n",
        "    return (self.dot(k, G), self.add(message, self.dot(k, public_key)))\n",
        "\n",
        "  def decrypt(self, message):\n",
        "    return self.sub(message[1], self.dot(self.private_key, message[0]))"
      ]
    },
    {
      "cell_type": "code",
      "source": [
        "a = 1\n",
        "b = 6\n",
        "q = 11\n",
        "G = (5, 2)"
      ],
      "metadata": {
        "id": "xg1UpUqTt4bl"
      },
      "execution_count": 2,
      "outputs": []
    },
    {
      "cell_type": "code",
      "source": [
        "ecc = ECC(a, b, q, G)"
      ],
      "metadata": {
        "id": "fDJQ9jSft5HO"
      },
      "execution_count": 3,
      "outputs": []
    },
    {
      "cell_type": "code",
      "source": [
        "private_key = 8\n",
        "public_key = ecc.dot(private_key, G)\n",
        "print(f'PUBLIC-KEY: {public_key}')"
      ],
      "metadata": {
        "colab": {
          "base_uri": "https://localhost:8080/"
        },
        "id": "3lq27KNft5pV",
        "outputId": "76cc2092-b56c-42c5-9b73-66aae71f2ffe"
      },
      "execution_count": 4,
      "outputs": [
        {
          "output_type": "stream",
          "name": "stdout",
          "text": [
            "PUBLIC-KEY: (351, 6576)\n"
          ]
        }
      ]
    },
    {
      "cell_type": "code",
      "source": [
        "ecc.generate_secret_key(public_key)"
      ],
      "metadata": {
        "id": "KfEI-Qx0t6TN"
      },
      "execution_count": 5,
      "outputs": []
    },
    {
      "cell_type": "code",
      "source": [
        "secret_key = ecc.dot(private_key, ecc.get_public_key())\n",
        "print(f'SECRET-KEY: {secret_key}')"
      ],
      "metadata": {
        "colab": {
          "base_uri": "https://localhost:8080/"
        },
        "id": "9exfYTHyt7Fe",
        "outputId": "1a42935e-c0de-43c3-c58a-512f0fadcaf6"
      },
      "execution_count": 6,
      "outputs": [
        {
          "output_type": "stream",
          "name": "stdout",
          "text": [
            "SECRET-KEY: (351, 6576)\n"
          ]
        }
      ]
    },
    {
      "cell_type": "code",
      "source": [
        "message = (2, 7)\n",
        "ciphertext = ecc.encrypt(message, public_key)\n",
        "print(f'MESSAGE: {message}, CIPHERTEXT: {ciphertext}')"
      ],
      "metadata": {
        "colab": {
          "base_uri": "https://localhost:8080/"
        },
        "id": "gvsr0gamt7yN",
        "outputId": "23a3a775-a706-4aa3-b8b3-7e2c8eed20b1"
      },
      "execution_count": 7,
      "outputs": [
        {
          "output_type": "stream",
          "name": "stdout",
          "text": [
            "MESSAGE: (2, 7), CIPHERTEXT: ((5, 2), (1.2808433428296553, 6.536217996997118))\n"
          ]
        }
      ]
    },
    {
      "cell_type": "code",
      "source": [
        "decrypted_text = ecc.sub(ciphertext[1], ecc.dot(private_key, ciphertext[0]))\n",
        "print(f'DECRYPTED-TEXT: {decrypted_text}')"
      ],
      "metadata": {
        "colab": {
          "base_uri": "https://localhost:8080/"
        },
        "id": "Rea-zM21t8lE",
        "outputId": "f496038a-e39a-47cc-95e9-363399c24fe8"
      },
      "execution_count": 8,
      "outputs": [
        {
          "output_type": "stream",
          "name": "stdout",
          "text": [
            "DECRYPTED-TEXT: (2, 7)\n"
          ]
        }
      ]
    }
  ]
}