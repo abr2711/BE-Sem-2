{
 "cells": [
  {
   "cell_type": "code",
   "execution_count": 85,
   "metadata": {},
   "outputs": [],
   "source": [
    "import numpy as np\n",
    "import pandas as pd"
   ]
  },
  {
   "cell_type": "code",
   "execution_count": 86,
   "metadata": {},
   "outputs": [],
   "source": [
    "columns = ['Age', 'Income', 'Gender', 'Marital Status', 'Buys']\n",
    "data = [['<21', 'High', 'Male', 'Single', 'No'],\n",
    "        ['<21', 'High', 'Male', 'Married', 'No'],\n",
    "        ['21-35', 'High', 'Male', 'Single', 'Yes'],\n",
    "        ['>35', 'Medium', 'Male', 'Single', 'Yes'],\n",
    "        ['>35', 'Low', 'Female', 'Single', 'Yes'],\n",
    "        ['>35', 'Low', 'Female', 'Married', 'No'],\n",
    "        ['21-35', 'Low', 'Female', 'Married', 'Yes'],\n",
    "        ['<21', 'Medium', 'Male', 'Single', 'No'],\n",
    "        ['<21', 'Low', 'Female', 'Married', 'Yes'],\n",
    "        ['>35', 'Medium', 'Female', 'Single', 'Yes'],\n",
    "        ['<21', 'Medium', 'Female', 'Married', 'Yes'],\n",
    "        ['21-35', 'Medium', 'Male', 'Married', 'Yes'],\n",
    "        ['21-35', 'High', 'Female', 'Single', 'Yes'],\n",
    "        ['>35', 'Medium', 'Male', 'Married', 'No']\n",
    "        ]\n",
    "df = pd.DataFrame(columns=columns, data=data)"
   ]
  },
  {
   "cell_type": "code",
   "execution_count": 87,
   "metadata": {
    "scrolled": true
   },
   "outputs": [
    {
     "data": {
      "text/plain": [
       "Age    Income  Gender  Marital Status  Buys\n",
       "21-35  High    Female  Single          Yes     1\n",
       "               Male    Single          Yes     1\n",
       "       Low     Female  Married         Yes     1\n",
       "       Medium  Male    Married         Yes     1\n",
       "<21    High    Male    Married         No      1\n",
       "                       Single          No      1\n",
       "       Low     Female  Married         Yes     1\n",
       "       Medium  Female  Married         Yes     1\n",
       "               Male    Single          No      1\n",
       ">35    Low     Female  Married         No      1\n",
       "                       Single          Yes     1\n",
       "       Medium  Female  Single          Yes     1\n",
       "               Male    Married         No      1\n",
       "                       Single          Yes     1\n",
       "dtype: int64"
      ]
     },
     "execution_count": 87,
     "metadata": {},
     "output_type": "execute_result"
    }
   ],
   "source": [
    "df.value_counts()"
   ]
  },
  {
   "cell_type": "code",
   "execution_count": 88,
   "metadata": {},
   "outputs": [
    {
     "data": {
      "text/plain": [
       "Yes    9\n",
       "No     5\n",
       "Name: Buys, dtype: int64"
      ]
     },
     "execution_count": 88,
     "metadata": {},
     "output_type": "execute_result"
    }
   ],
   "source": [
    "df['Buys'].value_counts()"
   ]
  },
  {
   "cell_type": "code",
   "execution_count": 34,
   "metadata": {},
   "outputs": [],
   "source": [
    "class Node:\n",
    "    def __init__(self, attr: str, defi : bool, out = None):\n",
    "        self.attr = attr\n",
    "        self.defi = defi\n",
    "        self.out = out\n",
    "            \n",
    "    def getOutput(self, input):\n",
    "        if self.defi:\n",
    "            return self.out\n",
    "#         elif type(self.out[input[self.attr]]) != type(self):\n",
    "#             return self.out[input[self.attr]]\n",
    "        return self.out[input[self.attr]].getOutput(input)\n",
    "    \n",
    "    def __str__(self):\n",
    "        return f'DEFI : {self.defi}  OUTPUT : {self.out}'\n",
    "        "
   ]
  },
  {
   "cell_type": "code",
   "execution_count": 35,
   "metadata": {},
   "outputs": [],
   "source": [
    "class DecisionTree:\n",
    "    def __init__(self, df, target: str):\n",
    "        self.df = df\n",
    "        self.target = target\n",
    "\n",
    "    def __GiniIndex(self, df, colName):\n",
    "        tot = len(df[self.target])\n",
    "        unique_outputs = df[self.target].unique()\n",
    "        uniqueVals = df[colName].value_counts()\n",
    "        giniArr = {}\n",
    "        for i in uniqueVals.keys():\n",
    "            giniInd = 1\n",
    "            for j in unique_outputs:\n",
    "                t = df[df[colName] == i]\n",
    "                t = t[t[self.target] == j]\n",
    "                t = len(t[self.target])\n",
    "                giniInd -= (t/uniqueVals[i])**2\n",
    "                giniArr[i] = giniInd\n",
    "        gini_final = 0\n",
    "        for i in giniArr:\n",
    "            gini_final += (uniqueVals[i]/tot)*giniArr[i]\n",
    "        \n",
    "        return gini_final\n",
    "    \n",
    "    def __getAllGini(self,df):\n",
    "        giniDict = {}\n",
    "        for i in df.columns:\n",
    "            if i != self.target:\n",
    "                giniDict[i] = self.__GiniIndex(df,i)\n",
    "#         print(giniDict)\n",
    "        return giniDict\n",
    "    \n",
    "    def BuildTree(self,df):\n",
    "        giniDict = self.__getAllGini(df)\n",
    "        col = min(giniDict, key = giniDict.get)\n",
    "        uniqueVals = df[col].unique()\n",
    "        isTargetUnique = len(df[self.target].unique()) == 1\n",
    "        if isTargetUnique:\n",
    "            defi = True\n",
    "            out = df[self.target].unique()[0]\n",
    "            return Node(col, defi, out)\n",
    "        elif len(df.columns) == 2:\n",
    "            defi = True\n",
    "            out = df[self.target].value_counts().idxmax()\n",
    "            return Node(col, defi, out)\n",
    "        else:\n",
    "            defi = False\n",
    "            out_Map = {}\n",
    "            for i in uniqueVals:\n",
    "                sub_df = df[df[col] == i]\n",
    "                sub_df = sub_df.drop(columns=[col], axis = 1)\n",
    "                out_Map[i] = self.BuildTree(sub_df)\n",
    "                \n",
    "            return Node(col, defi, out_Map)"
   ]
  },
  {
   "cell_type": "code",
   "execution_count": 36,
   "metadata": {},
   "outputs": [],
   "source": [
    "dt = DecisionTree(df, 'Buys')\n",
    "root = dt.BuildTree(df)"
   ]
  },
  {
   "cell_type": "code",
   "execution_count": 37,
   "metadata": {},
   "outputs": [
    {
     "name": "stdout",
     "output_type": "stream",
     "text": [
      "DEFI : False  OUTPUT : {'<21': <__main__.Node object at 0x00000235514496A0>, '21-35': <__main__.Node object at 0x00000235514D99A0>, '>35': <__main__.Node object at 0x00000235514A4FA0>}\n"
     ]
    }
   ],
   "source": [
    "print(str(root))"
   ]
  },
  {
   "cell_type": "code",
   "execution_count": 38,
   "metadata": {},
   "outputs": [
    {
     "data": {
      "text/plain": [
       "'Yes'"
      ]
     },
     "execution_count": 38,
     "metadata": {},
     "output_type": "execute_result"
    }
   ],
   "source": [
    "root.getOutput({'Age':'<21', 'Income':'Low','Gender':'Female','Marital Status':'Married'})"
   ]
  },
  {
   "cell_type": "code",
   "execution_count": 89,
   "metadata": {},
   "outputs": [],
   "source": [
    "from sklearn.tree import DecisionTreeClassifier"
   ]
  },
  {
   "cell_type": "code",
   "execution_count": 90,
   "metadata": {},
   "outputs": [
    {
     "ename": "AttributeError",
     "evalue": "'LabelEncoder' object has no attribute 'feature_names_in_'",
     "output_type": "error",
     "traceback": [
      "\u001b[1;31m---------------------------------------------------------------------------\u001b[0m",
      "\u001b[1;31mAttributeError\u001b[0m                            Traceback (most recent call last)",
      "Input \u001b[1;32mIn [90]\u001b[0m, in \u001b[0;36m<cell line: 6>\u001b[1;34m()\u001b[0m\n\u001b[0;32m      3\u001b[0m lb \u001b[38;5;241m=\u001b[39m LabelEncoder()\n\u001b[0;32m      5\u001b[0m df \u001b[38;5;241m=\u001b[39mdf\u001b[38;5;241m.\u001b[39mapply(lb\u001b[38;5;241m.\u001b[39mfit_transform)\n\u001b[1;32m----> 6\u001b[0m \u001b[43mlb\u001b[49m\u001b[38;5;241;43m.\u001b[39;49m\u001b[43mfeature_names_in_\u001b[49m\n",
      "\u001b[1;31mAttributeError\u001b[0m: 'LabelEncoder' object has no attribute 'feature_names_in_'"
     ]
    }
   ],
   "source": [
    "from sklearn.preprocessing import LabelEncoder\n",
    "\n",
    "lb = LabelEncoder()\n",
    "\n",
    "df =df.apply(lb.fit_transform)"
   ]
  },
  {
   "cell_type": "code",
   "execution_count": 58,
   "metadata": {},
   "outputs": [
    {
     "data": {
      "text/html": [
       "<div>\n",
       "<style scoped>\n",
       "    .dataframe tbody tr th:only-of-type {\n",
       "        vertical-align: middle;\n",
       "    }\n",
       "\n",
       "    .dataframe tbody tr th {\n",
       "        vertical-align: top;\n",
       "    }\n",
       "\n",
       "    .dataframe thead th {\n",
       "        text-align: right;\n",
       "    }\n",
       "</style>\n",
       "<table border=\"1\" class=\"dataframe\">\n",
       "  <thead>\n",
       "    <tr style=\"text-align: right;\">\n",
       "      <th></th>\n",
       "      <th>Age</th>\n",
       "      <th>Income</th>\n",
       "      <th>Gender</th>\n",
       "      <th>Marital Status</th>\n",
       "      <th>Buys</th>\n",
       "    </tr>\n",
       "  </thead>\n",
       "  <tbody>\n",
       "    <tr>\n",
       "      <th>0</th>\n",
       "      <td>1</td>\n",
       "      <td>0</td>\n",
       "      <td>1</td>\n",
       "      <td>1</td>\n",
       "      <td>0</td>\n",
       "    </tr>\n",
       "    <tr>\n",
       "      <th>1</th>\n",
       "      <td>1</td>\n",
       "      <td>0</td>\n",
       "      <td>1</td>\n",
       "      <td>0</td>\n",
       "      <td>0</td>\n",
       "    </tr>\n",
       "    <tr>\n",
       "      <th>2</th>\n",
       "      <td>0</td>\n",
       "      <td>0</td>\n",
       "      <td>1</td>\n",
       "      <td>1</td>\n",
       "      <td>1</td>\n",
       "    </tr>\n",
       "    <tr>\n",
       "      <th>3</th>\n",
       "      <td>2</td>\n",
       "      <td>2</td>\n",
       "      <td>1</td>\n",
       "      <td>1</td>\n",
       "      <td>1</td>\n",
       "    </tr>\n",
       "    <tr>\n",
       "      <th>4</th>\n",
       "      <td>2</td>\n",
       "      <td>1</td>\n",
       "      <td>0</td>\n",
       "      <td>1</td>\n",
       "      <td>1</td>\n",
       "    </tr>\n",
       "    <tr>\n",
       "      <th>5</th>\n",
       "      <td>2</td>\n",
       "      <td>1</td>\n",
       "      <td>0</td>\n",
       "      <td>0</td>\n",
       "      <td>0</td>\n",
       "    </tr>\n",
       "    <tr>\n",
       "      <th>6</th>\n",
       "      <td>0</td>\n",
       "      <td>1</td>\n",
       "      <td>0</td>\n",
       "      <td>0</td>\n",
       "      <td>1</td>\n",
       "    </tr>\n",
       "    <tr>\n",
       "      <th>7</th>\n",
       "      <td>1</td>\n",
       "      <td>2</td>\n",
       "      <td>1</td>\n",
       "      <td>1</td>\n",
       "      <td>0</td>\n",
       "    </tr>\n",
       "    <tr>\n",
       "      <th>8</th>\n",
       "      <td>1</td>\n",
       "      <td>1</td>\n",
       "      <td>0</td>\n",
       "      <td>0</td>\n",
       "      <td>1</td>\n",
       "    </tr>\n",
       "    <tr>\n",
       "      <th>9</th>\n",
       "      <td>2</td>\n",
       "      <td>2</td>\n",
       "      <td>0</td>\n",
       "      <td>1</td>\n",
       "      <td>1</td>\n",
       "    </tr>\n",
       "    <tr>\n",
       "      <th>10</th>\n",
       "      <td>1</td>\n",
       "      <td>2</td>\n",
       "      <td>0</td>\n",
       "      <td>0</td>\n",
       "      <td>1</td>\n",
       "    </tr>\n",
       "    <tr>\n",
       "      <th>11</th>\n",
       "      <td>0</td>\n",
       "      <td>2</td>\n",
       "      <td>1</td>\n",
       "      <td>0</td>\n",
       "      <td>1</td>\n",
       "    </tr>\n",
       "    <tr>\n",
       "      <th>12</th>\n",
       "      <td>0</td>\n",
       "      <td>0</td>\n",
       "      <td>0</td>\n",
       "      <td>1</td>\n",
       "      <td>1</td>\n",
       "    </tr>\n",
       "    <tr>\n",
       "      <th>13</th>\n",
       "      <td>2</td>\n",
       "      <td>2</td>\n",
       "      <td>1</td>\n",
       "      <td>0</td>\n",
       "      <td>0</td>\n",
       "    </tr>\n",
       "  </tbody>\n",
       "</table>\n",
       "</div>"
      ],
      "text/plain": [
       "    Age  Income  Gender  Marital Status  Buys\n",
       "0     1       0       1               1     0\n",
       "1     1       0       1               0     0\n",
       "2     0       0       1               1     1\n",
       "3     2       2       1               1     1\n",
       "4     2       1       0               1     1\n",
       "5     2       1       0               0     0\n",
       "6     0       1       0               0     1\n",
       "7     1       2       1               1     0\n",
       "8     1       1       0               0     1\n",
       "9     2       2       0               1     1\n",
       "10    1       2       0               0     1\n",
       "11    0       2       1               0     1\n",
       "12    0       0       0               1     1\n",
       "13    2       2       1               0     0"
      ]
     },
     "execution_count": 58,
     "metadata": {},
     "output_type": "execute_result"
    }
   ],
   "source": [
    "df"
   ]
  },
  {
   "cell_type": "code",
   "execution_count": 59,
   "metadata": {},
   "outputs": [
    {
     "data": {
      "text/plain": [
       "DecisionTreeClassifier()"
      ]
     },
     "execution_count": 59,
     "metadata": {},
     "output_type": "execute_result"
    }
   ],
   "source": [
    "y = df['Buys']\n",
    "X = df.drop(['Buys'],axis=1)\n",
    "\n",
    "\n",
    "model = DecisionTreeClassifier()\n",
    "model.fit(X,y)"
   ]
  },
  {
   "cell_type": "code",
   "execution_count": 73,
   "metadata": {},
   "outputs": [
    {
     "data": {
      "text/html": [
       "<div>\n",
       "<style scoped>\n",
       "    .dataframe tbody tr th:only-of-type {\n",
       "        vertical-align: middle;\n",
       "    }\n",
       "\n",
       "    .dataframe tbody tr th {\n",
       "        vertical-align: top;\n",
       "    }\n",
       "\n",
       "    .dataframe thead th {\n",
       "        text-align: right;\n",
       "    }\n",
       "</style>\n",
       "<table border=\"1\" class=\"dataframe\">\n",
       "  <thead>\n",
       "    <tr style=\"text-align: right;\">\n",
       "      <th></th>\n",
       "      <th>Age</th>\n",
       "      <th>Income</th>\n",
       "      <th>Gender</th>\n",
       "      <th>Marital Status</th>\n",
       "      <th>Buys</th>\n",
       "    </tr>\n",
       "  </thead>\n",
       "  <tbody>\n",
       "    <tr>\n",
       "      <th>7</th>\n",
       "      <td>1</td>\n",
       "      <td>2</td>\n",
       "      <td>1</td>\n",
       "      <td>1</td>\n",
       "      <td>0</td>\n",
       "    </tr>\n",
       "  </tbody>\n",
       "</table>\n",
       "</div>"
      ],
      "text/plain": [
       "   Age  Income  Gender  Marital Status  Buys\n",
       "7    1       2       1               1     0"
      ]
     },
     "execution_count": 73,
     "metadata": {},
     "output_type": "execute_result"
    }
   ],
   "source": [
    "test .iloc[7:8]\n",
    "test\n"
   ]
  },
  {
   "cell_type": "code",
   "execution_count": 74,
   "metadata": {},
   "outputs": [],
   "source": [
    " preds = model.predict(test)"
   ]
  },
  {
   "cell_type": "code",
   "execution_count": 76,
   "metadata": {},
   "outputs": [
    {
     "data": {
      "text/plain": [
       "0"
      ]
     },
     "execution_count": 76,
     "metadata": {},
     "output_type": "execute_result"
    }
   ],
   "source": [
    "preds[0]"
   ]
  },
  {
   "cell_type": "code",
   "execution_count": 81,
   "metadata": {},
   "outputs": [
    {
     "data": {
      "text/plain": [
       "<Figure size 864x864 with 0 Axes>"
      ]
     },
     "execution_count": 81,
     "metadata": {},
     "output_type": "execute_result"
    },
    {
     "data": {
      "text/plain": [
       "<Figure size 864x864 with 0 Axes>"
      ]
     },
     "metadata": {},
     "output_type": "display_data"
    }
   ],
   "source": [
    "from sklearn.tree import plot_tree\n",
    "import matplotlib.pyplot as plt"
   ]
  },
  {
   "cell_type": "code",
   "execution_count": 83,
   "metadata": {},
   "outputs": [
    {
     "data": {
      "image/png": "[encoded data removed]",
      "text/plain": [
       "<Figure size 864x864 with 1 Axes>"
      ]
     },
     "metadata": {
      "needs_background": "light"
     },
     "output_type": "display_data"
    }
   ],
   "source": [
    "plt.figure(figsize=(12,12))\n",
    "pt = plot_tree(model,feature_names=X.columns,class_names=['Yes','NO'])\n",
    "plt.show()"
   ]
  },
  {
   "cell_type": "code",
   "execution_count": null,
   "metadata": {},
   "outputs": [],
   "source": []
  }
 ],
 "metadata": {
  "kernelspec": {
   "display_name": "Python 3",
   "language": "python",
   "name": "python3"
  },
  "language_info": {
   "codemirror_mode": {
    "name": "ipython",
    "version": 3
   },
   "file_extension": ".py",
   "mimetype": "text/x-python",
   "name": "python",
   "nbconvert_exporter": "python",
   "pygments_lexer": "ipython3",
   "version": "3.8.3"
  }
 },
 "nbformat": 4,
 "nbformat_minor": 5
}
