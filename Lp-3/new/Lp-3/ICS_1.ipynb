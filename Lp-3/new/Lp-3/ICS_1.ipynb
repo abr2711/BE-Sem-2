{
  "nbformat": 4,
  "nbformat_minor": 0,
  "metadata": {
    "colab": {
      "name": "ICS-1.ipynb",
      "provenance": []
    },
    "kernelspec": {
      "name": "python3",
      "display_name": "Python 3"
    },
    "language_info": {
      "name": "python"
    }
  },
  "cells": [
    {
      "cell_type": "markdown",
      "source": [
        "SDES IMPLEMENTATION"
      ],
      "metadata": {
        "id": "rx08407hnHx3"
      }
    },
    {
      "cell_type": "markdown",
      "source": [
        "KEY GENERATION"
      ],
      "metadata": {
        "id": "s3cJxFb8nKH6"
      }
    },
    {
      "cell_type": "code",
      "execution_count": 1,
      "metadata": {
        "id": "J0xgX_kBmzQz"
      },
      "outputs": [],
      "source": [
        "P10 = [3, 5, 2, 7, 4, 10, 1, 9, 8, 6]\n",
        "P8 = [6, 3, 7, 4, 8, 5, 10, 9]"
      ]
    },
    {
      "cell_type": "code",
      "source": [
        "def apply_permutation(x, p):\n",
        "  res = []\n",
        "  for i in p:\n",
        "    res.append(x[i-1])\n",
        "  return res"
      ],
      "metadata": {
        "id": "yyUz7zyZnOAS"
      },
      "execution_count": 2,
      "outputs": []
    },
    {
      "cell_type": "code",
      "source": [
        "def left_shift(x, places = 1):\n",
        "  places %= len(x)\n",
        "  return x[places:] + x[:places]"
      ],
      "metadata": {
        "id": "O8JLd23JnOqg"
      },
      "execution_count": 3,
      "outputs": []
    },
    {
      "cell_type": "code",
      "source": [
        "# key = [1, 0, 1, 0, 0, 0, 0, 0, 1, 0]\n",
        "key = [1, 1, 0, 0, 0, 1, 1, 1, 1, 0]"
      ],
      "metadata": {
        "id": "Ibv_1EDznPfU"
      },
      "execution_count": 4,
      "outputs": []
    },
    {
      "cell_type": "code",
      "source": [
        "key_p10 = apply_permutation(key, P10)\n",
        "print(f'Key after P10 permutation: {key_p10}')"
      ],
      "metadata": {
        "colab": {
          "base_uri": "https://localhost:8080/"
        },
        "id": "udwdvI5UnQX0",
        "outputId": "8dad31e0-2ac5-4ba8-aa3f-86c9a739bb52"
      },
      "execution_count": 5,
      "outputs": [
        {
          "output_type": "stream",
          "name": "stdout",
          "text": [
            "Key after P10 permutation: [0, 0, 1, 1, 0, 0, 1, 1, 1, 1]\n"
          ]
        }
      ]
    },
    {
      "cell_type": "code",
      "source": [
        "l = key_p10[:5]\n",
        "r = key_p10[5:]\n",
        "print(f'Left half: {l}, Right half: {r}')"
      ],
      "metadata": {
        "colab": {
          "base_uri": "https://localhost:8080/"
        },
        "id": "D4wJmMiWnRRF",
        "outputId": "a7f53d51-7c6e-4326-d963-d24e91e694bc"
      },
      "execution_count": 6,
      "outputs": [
        {
          "output_type": "stream",
          "name": "stdout",
          "text": [
            "Left half: [0, 0, 1, 1, 0], Right half: [0, 1, 1, 1, 1]\n"
          ]
        }
      ]
    },
    {
      "cell_type": "code",
      "source": [
        "l_ls1 = left_shift(l)\n",
        "r_ls1 = left_shift(r)\n",
        "print('Applying left shift')\n",
        "print(f'Left half: {l_ls1}, Right half: {r_ls1}')"
      ],
      "metadata": {
        "colab": {
          "base_uri": "https://localhost:8080/"
        },
        "id": "ckf8gM57nSEA",
        "outputId": "88b0b685-6b70-4259-d4c4-68f025cadf2d"
      },
      "execution_count": 7,
      "outputs": [
        {
          "output_type": "stream",
          "name": "stdout",
          "text": [
            "Applying left shift\n",
            "Left half: [0, 1, 1, 0, 0], Right half: [1, 1, 1, 1, 0]\n"
          ]
        }
      ]
    },
    {
      "cell_type": "code",
      "source": [
        "key_ls1 = l_ls1 + r_ls1\n",
        "k1 = apply_permutation(key_ls1, P8)\n",
        "print(f'Key-1 after applying P8 permutation: {k1}')"
      ],
      "metadata": {
        "colab": {
          "base_uri": "https://localhost:8080/"
        },
        "id": "lqFZ92jknS3j",
        "outputId": "ed5f41ca-904e-43c7-d7a6-d0fb9f86166c"
      },
      "execution_count": 8,
      "outputs": [
        {
          "output_type": "stream",
          "name": "stdout",
          "text": [
            "Key-1 after applying P8 permutation: [1, 1, 1, 0, 1, 0, 0, 1]\n"
          ]
        }
      ]
    },
    {
      "cell_type": "code",
      "source": [
        "l_ls2 = left_shift(l_ls1, 2)\n",
        "r_ls2 = left_shift(r_ls1, 2)\n",
        "print('Applying double left shift')\n",
        "print(f'Left half: {l_ls2}, Right half: {r_ls2}')"
      ],
      "metadata": {
        "colab": {
          "base_uri": "https://localhost:8080/"
        },
        "id": "IF_eQMzmnT0a",
        "outputId": "f686cc9d-3243-4ed8-ab76-f7059dfde05a"
      },
      "execution_count": 9,
      "outputs": [
        {
          "output_type": "stream",
          "name": "stdout",
          "text": [
            "Applying double left shift\n",
            "Left half: [1, 0, 0, 0, 1], Right half: [1, 1, 0, 1, 1]\n"
          ]
        }
      ]
    },
    {
      "cell_type": "code",
      "source": [
        "key_ls2 = l_ls2 + r_ls2\n",
        "k2 = apply_permutation(key_ls2, P8)\n",
        "print(f'Key-2 after applying P8 permutation: {k2}')"
      ],
      "metadata": {
        "colab": {
          "base_uri": "https://localhost:8080/"
        },
        "id": "kDz0SdFonUsy",
        "outputId": "e03d90dd-83f7-45fd-ddfc-33b1d02c5975"
      },
      "execution_count": 10,
      "outputs": [
        {
          "output_type": "stream",
          "name": "stdout",
          "text": [
            "Key-2 after applying P8 permutation: [1, 0, 1, 0, 0, 1, 1, 1]\n"
          ]
        }
      ]
    },
    {
      "cell_type": "code",
      "source": [
        "print('Final keys obtained')\n",
        "print(f'Key-1: {k1}')\n",
        "print(f'Key-2: {k2}')"
      ],
      "metadata": {
        "colab": {
          "base_uri": "https://localhost:8080/"
        },
        "id": "0r3ykkECnVgY",
        "outputId": "aab9442e-ae01-4467-8bd2-079ab58778ea"
      },
      "execution_count": 11,
      "outputs": [
        {
          "output_type": "stream",
          "name": "stdout",
          "text": [
            "Final keys obtained\n",
            "Key-1: [1, 1, 1, 0, 1, 0, 0, 1]\n",
            "Key-2: [1, 0, 1, 0, 0, 1, 1, 1]\n"
          ]
        }
      ]
    },
    {
      "cell_type": "markdown",
      "source": [
        "ENCRYPTION AND DECRYPTION"
      ],
      "metadata": {
        "id": "LmeBQFwLnWq9"
      }
    },
    {
      "cell_type": "code",
      "source": [
        "# plain_text = [1, 0, 0, 1, 0, 1, 1, 1]\n",
        "plain_text = [0, 0, 1, 0, 1, 0, 0, 0]"
      ],
      "metadata": {
        "id": "If7pLNQsnYAY"
      },
      "execution_count": 12,
      "outputs": []
    },
    {
      "cell_type": "code",
      "source": [
        "initial_permutation = [2, 6, 3, 1, 4, 8, 5, 7]\n",
        "expansion_permutation = [4, 1, 2, 3, 2, 3, 4, 1]\n",
        "P4 = [2, 4, 3, 1]\n",
        "inv_initial_permutation = [4, 1, 3, 5, 7, 2, 8, 6]"
      ],
      "metadata": {
        "id": "tpS9IEDwnY_n"
      },
      "execution_count": 13,
      "outputs": []
    },
    {
      "cell_type": "code",
      "source": [
        "text_ip = apply_permutation(plain_text, initial_permutation)\n",
        "print(f'Text after initial permutation: {text_ip}')"
      ],
      "metadata": {
        "colab": {
          "base_uri": "https://localhost:8080/"
        },
        "id": "LofoHCE-nZ9D",
        "outputId": "ee8661c8-510d-4b84-a2af-cee0870c3062"
      },
      "execution_count": 14,
      "outputs": [
        {
          "output_type": "stream",
          "name": "stdout",
          "text": [
            "Text after initial permutation: [0, 0, 1, 0, 0, 0, 1, 0]\n"
          ]
        }
      ]
    },
    {
      "cell_type": "code",
      "source": [
        "l_ip = text_ip[:4]\n",
        "r_ip = text_ip[4:]\n",
        "r_ip_ep = apply_permutation(r_ip, expansion_permutation)\n",
        "print(f'Right half after explansion: {r_ip_ep}')"
      ],
      "metadata": {
        "colab": {
          "base_uri": "https://localhost:8080/"
        },
        "id": "o63ht3kana_7",
        "outputId": "2b3fd59d-fba4-48c4-b8af-63ffb8085380"
      },
      "execution_count": 15,
      "outputs": [
        {
          "output_type": "stream",
          "name": "stdout",
          "text": [
            "Right half after explansion: [0, 0, 0, 1, 0, 1, 0, 0]\n"
          ]
        }
      ]
    },
    {
      "cell_type": "code",
      "source": [
        "def apply_xor(x, y):\n",
        "  res = []\n",
        "  for i in range(len(x)):\n",
        "    res.append(x[i] ^ y[i])\n",
        "  return res"
      ],
      "metadata": {
        "id": "DAir-Xzcncg0"
      },
      "execution_count": 16,
      "outputs": []
    },
    {
      "cell_type": "code",
      "source": [
        "k1_xor = apply_xor(k1, r_ip_ep)\n",
        "print(f'Key-1 after XOR: {k1_xor}')"
      ],
      "metadata": {
        "colab": {
          "base_uri": "https://localhost:8080/"
        },
        "id": "QAKL2xpvndQ2",
        "outputId": "f0f8f52e-e1e3-4e4b-e110-1341acadd117"
      },
      "execution_count": 17,
      "outputs": [
        {
          "output_type": "stream",
          "name": "stdout",
          "text": [
            "Key-1 after XOR: [1, 1, 1, 1, 1, 1, 0, 1]\n"
          ]
        }
      ]
    },
    {
      "cell_type": "code",
      "source": [
        "l_xor = k1_xor[:4]\n",
        "r_xor = k1_xor[4:]"
      ],
      "metadata": {
        "id": "Aq9b2oYcneDQ"
      },
      "execution_count": 18,
      "outputs": []
    },
    {
      "cell_type": "code",
      "source": [
        "S0 = [[1,0,3,2],\n",
        "      [3,2,1,0],\n",
        "      [0,2,1,3],\n",
        "      [3,1,3,2]]\n",
        "\n",
        "S1=  [[0,1,2,3],\n",
        "      [2,0,1,3],\n",
        "      [3,0,1,0],\n",
        "      [2,1,0,3]]"
      ],
      "metadata": {
        "id": "4mBOEqehne06"
      },
      "execution_count": 19,
      "outputs": []
    },
    {
      "cell_type": "code",
      "source": [
        "def apply_s_box(x, s):\n",
        "  r = int(f'{x[0]}{x[3]}', 2)\n",
        "  c = int(f'{x[1]}{x[2]}', 2)\n",
        "  val = s[r][c]\n",
        "\n",
        "  if val == 0: return [0, 0]\n",
        "  elif val == 1: return [0, 1]\n",
        "  elif val == 2: return [1, 0]\n",
        "  else: return [1, 1]"
      ],
      "metadata": {
        "id": "VJR-9k9Jngbg"
      },
      "execution_count": 20,
      "outputs": []
    },
    {
      "cell_type": "code",
      "source": [
        "s_box_1 = apply_s_box(l_xor, S0) + apply_s_box(r_xor, S1)\n",
        "print(f'Applying S-Boxes on XOR key: {s_box_1}')"
      ],
      "metadata": {
        "colab": {
          "base_uri": "https://localhost:8080/"
        },
        "id": "C_QhpftGnhik",
        "outputId": "cfa0fa7f-b4b7-4ccd-d24d-d0827365b977"
      },
      "execution_count": 21,
      "outputs": [
        {
          "output_type": "stream",
          "name": "stdout",
          "text": [
            "Applying S-Boxes on XOR key: [1, 0, 0, 0]\n"
          ]
        }
      ]
    },
    {
      "cell_type": "code",
      "source": [
        "s_box_p4 = apply_permutation(s_box_1, P4)\n",
        "print(f'After applying P4: {s_box_p4}')"
      ],
      "metadata": {
        "colab": {
          "base_uri": "https://localhost:8080/"
        },
        "id": "7weuAZHRnicy",
        "outputId": "cf9bbbb9-01f3-4d0d-e0b4-38449a0cedc9"
      },
      "execution_count": 22,
      "outputs": [
        {
          "output_type": "stream",
          "name": "stdout",
          "text": [
            "After applying P4: [0, 0, 0, 1]\n"
          ]
        }
      ]
    },
    {
      "cell_type": "code",
      "source": [
        "p4_xor = apply_xor(l_ip, s_box_p4)\n",
        "print(f'Applying XOR with left half: {p4_xor}')"
      ],
      "metadata": {
        "colab": {
          "base_uri": "https://localhost:8080/"
        },
        "id": "v-JgXLsSnjLe",
        "outputId": "8c31f0dd-03c6-4f74-f63d-5f759d1067a2"
      },
      "execution_count": 23,
      "outputs": [
        {
          "output_type": "stream",
          "name": "stdout",
          "text": [
            "Applying XOR with left half: [0, 0, 1, 1]\n"
          ]
        }
      ]
    },
    {
      "cell_type": "code",
      "source": [
        "x = p4_xor + r_ip\n",
        "print(f'Combining with right half: {x}')"
      ],
      "metadata": {
        "colab": {
          "base_uri": "https://localhost:8080/"
        },
        "id": "unvfg92vnkWh",
        "outputId": "c59e6973-1ed6-4607-f43a-93586bb49175"
      },
      "execution_count": 24,
      "outputs": [
        {
          "output_type": "stream",
          "name": "stdout",
          "text": [
            "Combining with right half: [0, 0, 1, 1, 0, 0, 1, 0]\n"
          ]
        }
      ]
    },
    {
      "cell_type": "code",
      "source": [
        "x_rev = x[4:] + x[:4]\n",
        "print(f'Swapping nibbles: {x_rev}')"
      ],
      "metadata": {
        "colab": {
          "base_uri": "https://localhost:8080/"
        },
        "id": "YseN8RD1nlFh",
        "outputId": "4defed0f-2f6d-46d3-dadb-8d611ba0d8f9"
      },
      "execution_count": 25,
      "outputs": [
        {
          "output_type": "stream",
          "name": "stdout",
          "text": [
            "Swapping nibbles: [0, 0, 1, 0, 0, 0, 1, 1]\n"
          ]
        }
      ]
    },
    {
      "cell_type": "code",
      "source": [
        "l_x = x_rev[:4]\n",
        "r_x = x_rev[4:]\n",
        "r_x_ep = apply_permutation(r_x, expansion_permutation)\n",
        "print(f'Right half after expansion: {r_x_ep}')"
      ],
      "metadata": {
        "colab": {
          "base_uri": "https://localhost:8080/"
        },
        "id": "6cBnuBVYnl1V",
        "outputId": "88652a67-2454-49a2-eb7f-2f47ce6076a8"
      },
      "execution_count": 26,
      "outputs": [
        {
          "output_type": "stream",
          "name": "stdout",
          "text": [
            "Right half after expansion: [1, 0, 0, 1, 0, 1, 1, 0]\n"
          ]
        }
      ]
    },
    {
      "cell_type": "code",
      "source": [
        "k2_xor = apply_xor(r_x_ep, k2)\n",
        "print(f'After XOR with Key-2: {k2_xor}')"
      ],
      "metadata": {
        "colab": {
          "base_uri": "https://localhost:8080/"
        },
        "id": "izROOCkQnmlK",
        "outputId": "0a8f2bc4-d144-436c-b664-0e7432e04bb0"
      },
      "execution_count": 27,
      "outputs": [
        {
          "output_type": "stream",
          "name": "stdout",
          "text": [
            "After XOR with Key-2: [0, 0, 1, 1, 0, 0, 0, 1]\n"
          ]
        }
      ]
    },
    {
      "cell_type": "code",
      "source": [
        "l_xor_2 = k2_xor[:4]\n",
        "r_xor_2 = k2_xor[4:]"
      ],
      "metadata": {
        "id": "nzbgdIF2nnSV"
      },
      "execution_count": 28,
      "outputs": []
    },
    {
      "cell_type": "code",
      "source": [
        "s_box_2 = apply_s_box(l_xor_2, S0) + apply_s_box(r_xor_2, S1)\n",
        "print(f'Applying S-Boxes on XOR key: {s_box_2}')"
      ],
      "metadata": {
        "colab": {
          "base_uri": "https://localhost:8080/"
        },
        "id": "QawTVBWgnn90",
        "outputId": "ffe1ec4e-d083-4677-8e19-348f92499143"
      },
      "execution_count": 29,
      "outputs": [
        {
          "output_type": "stream",
          "name": "stdout",
          "text": [
            "Applying S-Boxes on XOR key: [1, 0, 1, 0]\n"
          ]
        }
      ]
    },
    {
      "cell_type": "code",
      "source": [
        "s_box_2_p4 = apply_permutation(s_box_2, P4)\n",
        "print(f'After applying P4: {s_box_2_p4}')"
      ],
      "metadata": {
        "colab": {
          "base_uri": "https://localhost:8080/"
        },
        "id": "f1ZEGX1tno-B",
        "outputId": "94e6eb27-7081-423e-f345-f0305508d598"
      },
      "execution_count": 30,
      "outputs": [
        {
          "output_type": "stream",
          "name": "stdout",
          "text": [
            "After applying P4: [0, 0, 1, 1]\n"
          ]
        }
      ]
    },
    {
      "cell_type": "code",
      "source": [
        "y = apply_xor(l_x, s_box_2_p4) + r_x\n",
        "print(f'After XOR and joining: {y}')"
      ],
      "metadata": {
        "colab": {
          "base_uri": "https://localhost:8080/"
        },
        "id": "jRbEmc_cnpoH",
        "outputId": "e6ef9e0c-e564-45d4-ed5f-d2161b08bdcc"
      },
      "execution_count": 31,
      "outputs": [
        {
          "output_type": "stream",
          "name": "stdout",
          "text": [
            "After XOR and joining: [0, 0, 0, 1, 0, 0, 1, 1]\n"
          ]
        }
      ]
    },
    {
      "cell_type": "code",
      "source": [
        "l_y = y[:4]\n",
        "r_y = y[4:]"
      ],
      "metadata": {
        "id": "RmOP5Ay8nqZQ"
      },
      "execution_count": 32,
      "outputs": []
    },
    {
      "cell_type": "code",
      "source": [
        "r_y_ep = apply_permutation(r_y, expansion_permutation)\n",
        "print(f'Right half after expansion: {r_y_ep}')"
      ],
      "metadata": {
        "colab": {
          "base_uri": "https://localhost:8080/"
        },
        "id": "u0Sxu-WDnrHV",
        "outputId": "40b0d431-caa5-4a32-a2c6-9729393e97c9"
      },
      "execution_count": 33,
      "outputs": [
        {
          "output_type": "stream",
          "name": "stdout",
          "text": [
            "Right half after expansion: [1, 0, 0, 1, 0, 1, 1, 0]\n"
          ]
        }
      ]
    },
    {
      "cell_type": "code",
      "source": [
        "r_y_xor = apply_xor(r_y_ep, k2)\n",
        "print(f'After XOR with Key-2: {r_y_xor}')"
      ],
      "metadata": {
        "colab": {
          "base_uri": "https://localhost:8080/"
        },
        "id": "-KvFb65ynsHl",
        "outputId": "402984c6-5f5b-40f7-a2a5-3471be182320"
      },
      "execution_count": 34,
      "outputs": [
        {
          "output_type": "stream",
          "name": "stdout",
          "text": [
            "After XOR with Key-2: [0, 0, 1, 1, 0, 0, 0, 1]\n"
          ]
        }
      ]
    },
    {
      "cell_type": "code",
      "source": [
        "xor_l = r_y_xor[:4]\n",
        "xor_r = r_y_xor[4:]"
      ],
      "metadata": {
        "id": "gZrYZFfBnszt"
      },
      "execution_count": 35,
      "outputs": []
    },
    {
      "cell_type": "code",
      "source": [
        "s_box_3 = apply_s_box(xor_l, S0) + apply_s_box(xor_r, S1)\n",
        "print(f'Applying S-Boxes on XOR key: {s_box_3}')"
      ],
      "metadata": {
        "colab": {
          "base_uri": "https://localhost:8080/"
        },
        "id": "zPP4ZsGzntk9",
        "outputId": "7356133f-9e50-4e27-f5b7-97bc3f7caa38"
      },
      "execution_count": 36,
      "outputs": [
        {
          "output_type": "stream",
          "name": "stdout",
          "text": [
            "Applying S-Boxes on XOR key: [1, 0, 1, 0]\n"
          ]
        }
      ]
    },
    {
      "cell_type": "code",
      "source": [
        "s_box_3_p4 = apply_permutation(s_box_3, P4)\n",
        "print(f'After applying P4: {s_box_3_p4}')"
      ],
      "metadata": {
        "colab": {
          "base_uri": "https://localhost:8080/"
        },
        "id": "8Z3sQ8D6nuXH",
        "outputId": "1ba4a8d8-7c9b-420c-f9d1-e83c435b8490"
      },
      "execution_count": 37,
      "outputs": [
        {
          "output_type": "stream",
          "name": "stdout",
          "text": [
            "After applying P4: [0, 0, 1, 1]\n"
          ]
        }
      ]
    },
    {
      "cell_type": "code",
      "source": [
        "z = apply_xor(l_x, s_box_3_p4) + r_x\n",
        "print(f'After XOR and joining: {z}')"
      ],
      "metadata": {
        "colab": {
          "base_uri": "https://localhost:8080/"
        },
        "id": "VF_gHl3lnvJK",
        "outputId": "0e910718-3256-4428-d4b2-cee8ddd4e322"
      },
      "execution_count": 38,
      "outputs": [
        {
          "output_type": "stream",
          "name": "stdout",
          "text": [
            "After XOR and joining: [0, 0, 0, 1, 0, 0, 1, 1]\n"
          ]
        }
      ]
    },
    {
      "cell_type": "code",
      "source": [
        "cipher_text = apply_permutation(z, inv_initial_permutation)\n",
        "print(f'Cipher Text: {cipher_text}')"
      ],
      "metadata": {
        "colab": {
          "base_uri": "https://localhost:8080/"
        },
        "id": "VlVhbcO9nwDE",
        "outputId": "20a0ddf4-837f-470a-ac28-78bf30b4de8e"
      },
      "execution_count": 39,
      "outputs": [
        {
          "output_type": "stream",
          "name": "stdout",
          "text": [
            "Cipher Text: [1, 0, 0, 0, 1, 0, 1, 0]\n"
          ]
        }
      ]
    }
  ]
}