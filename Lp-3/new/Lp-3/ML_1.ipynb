{
  "nbformat": 4,
  "nbformat_minor": 0,
  "metadata": {
    "colab": {
      "name": "ML-1.ipynb",
      "provenance": []
    },
    "kernelspec": {
      "name": "python3",
      "display_name": "Python 3"
    },
    "language_info": {
      "name": "python"
    }
  },
  "cells": [
    {
      "cell_type": "markdown",
      "source": [
        "LINEAR REGRESSION"
      ],
      "metadata": {
        "id": "GA5gdMwAlFvK"
      }
    },
    {
      "cell_type": "code",
      "execution_count": 1,
      "metadata": {
        "id": "bYB9xsVElAyg"
      },
      "outputs": [],
      "source": [
        "import numpy as np\n",
        "import matplotlib.pyplot as plt \n",
        "import seaborn as sns\n",
        "sns.set(rc = {'figure.figsize':(8,8)})"
      ]
    },
    {
      "cell_type": "code",
      "source": [
        "data = [\n",
        "        (10, 95),\n",
        "        (9, 80),\n",
        "        (2, 10),\n",
        "        (15, 50),\n",
        "        (10, 45),\n",
        "        (16, 98),\n",
        "        (11, 38),\n",
        "        (16, 93),\n",
        "]"
      ],
      "metadata": {
        "id": "1aie09XylIR4"
      },
      "execution_count": 2,
      "outputs": []
    },
    {
      "cell_type": "code",
      "source": [
        "x = [pt[0] for pt in data]\n",
        "y = [pt[1] for pt in data]"
      ],
      "metadata": {
        "id": "eXbczwBFlJDO"
      },
      "execution_count": 3,
      "outputs": []
    },
    {
      "cell_type": "code",
      "source": [
        "sns.scatterplot(x=x, y=y, s=100)"
      ],
      "metadata": {
        "colab": {
          "base_uri": "https://localhost:8080/",
          "height": 285
        },
        "id": "x50dmiejlKuH",
        "outputId": "fa4ee916-1032-4143-f25f-2ae39c288e47"
      },
      "execution_count": 4,
      "outputs": [
        {
          "output_type": "execute_result",
          "data": {
            "text/plain": [
              "<matplotlib.axes._subplots.AxesSubplot at 0x7faa6709e910>"
            ]
          },
          "metadata": {},
          "execution_count": 4
        },
        {
          "output_type": "display_data",
          "data": {
            "text/plain": [
              "<Figure size 432x288 with 1 Axes>"
            ],
            "image/png": "[encoded data removed]"
          },
          "metadata": {
            "needs_background": "light"
          }
        }
      ]
    },
    {
      "cell_type": "code",
      "source": [
        "n = len(x)\n",
        "xx = [a * a for a in x]\n",
        "xy = [x[i] * y[i] for i in range(n)]"
      ],
      "metadata": {
        "id": "vhAPURVnlMLE"
      },
      "execution_count": 5,
      "outputs": []
    },
    {
      "cell_type": "code",
      "source": [
        "sum_x = np.sum(x)\n",
        "sum_y = np.sum(y)\n",
        "sum_xx = np.sum(xx)\n",
        "sum_xy = np.sum(xy)"
      ],
      "metadata": {
        "id": "EDZJ5JxnlM7K"
      },
      "execution_count": 6,
      "outputs": []
    },
    {
      "cell_type": "code",
      "source": [
        "m = (n * sum_xy - sum_x * sum_y) / (n * sum_xx - sum_x * sum_x)"
      ],
      "metadata": {
        "id": "JkNFCFGBlNsQ"
      },
      "execution_count": 7,
      "outputs": []
    },
    {
      "cell_type": "code",
      "source": [
        "b = (sum_y - m * sum_x) / n"
      ],
      "metadata": {
        "id": "BD_0xNPilOna"
      },
      "execution_count": 8,
      "outputs": []
    },
    {
      "cell_type": "code",
      "source": [
        "print(f'LINE EQUATION: y = {round(m,2)} * x + {round(b,2)}')"
      ],
      "metadata": {
        "colab": {
          "base_uri": "https://localhost:8080/"
        },
        "id": "YFWFO7AwlPz-",
        "outputId": "b2663b33-f72a-4189-8cfd-1f8d37283f98"
      },
      "execution_count": 9,
      "outputs": [
        {
          "output_type": "stream",
          "name": "stdout",
          "text": [
            "LINE EQUATION: y = 4.59 * x + 12.58\n"
          ]
        }
      ]
    },
    {
      "cell_type": "code",
      "source": [
        "def plot_graph(x, y, slope, intercept):\n",
        "    axes = sns.scatterplot(x=x, y=y, s=100)\n",
        "    x_vals = np.array(axes.get_xlim())\n",
        "    y_vals = intercept + slope * x_vals\n",
        "    plt.plot(x_vals, y_vals, '-', color='red')"
      ],
      "metadata": {
        "id": "BUnfiReblQra"
      },
      "execution_count": 10,
      "outputs": []
    },
    {
      "cell_type": "code",
      "source": [
        "plot_graph(x, y, m, b)"
      ],
      "metadata": {
        "colab": {
          "base_uri": "https://localhost:8080/",
          "height": 268
        },
        "id": "6f9P8mk9lRtw",
        "outputId": "d8a8d56a-32d6-4910-fbd9-d87f4329c20d"
      },
      "execution_count": 11,
      "outputs": [
        {
          "output_type": "display_data",
          "data": {
            "text/plain": [
              "<Figure size 432x288 with 1 Axes>"
            ],
            "image/png": "[encoded data removed]"
          },
          "metadata": {
            "needs_background": "light"
          }
        }
      ]
    }
  ]
}