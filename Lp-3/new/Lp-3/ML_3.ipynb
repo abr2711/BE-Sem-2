{
  "nbformat": 4,
  "nbformat_minor": 0,
  "metadata": {
    "colab": {
      "name": "ML-3.ipynb",
      "provenance": []
    },
    "kernelspec": {
      "name": "python3",
      "display_name": "Python 3"
    },
    "language_info": {
      "name": "python"
    }
  },
  "cells": [
    {
      "cell_type": "markdown",
      "source": [
        "k-NN"
      ],
      "metadata": {
        "id": "HGTRptEOqtbS"
      }
    },
    {
      "cell_type": "code",
      "execution_count": 1,
      "metadata": {
        "id": "gzD0v6pOqr7q"
      },
      "outputs": [],
      "source": [
        "import numpy as np"
      ]
    },
    {
      "cell_type": "code",
      "source": [
        "class kNN:\n",
        "  def __init__(self, k):\n",
        "    self.k = k\n",
        "    self.X = []\n",
        "    self.y = []\n",
        "\n",
        "  def fit(self, X, y):\n",
        "    self.X = self.X + X\n",
        "    self.y = self.y + y\n",
        "\n",
        "  def __distance(self, x, y):\n",
        "    return (x[0] - y[0]) ** 2 + (x[1] - y[1]) ** 2\n",
        "\n",
        "  def __get_class(self, X):\n",
        "    distances = []\n",
        "    for i in range(len(self.X)):\n",
        "      distances.append((self.__distance(X, self.X[i]), self.y[i]))\n",
        "    distances.sort()\n",
        "    distances = distances[:self.k]\n",
        "    counts = {}\n",
        "    for d in distances:\n",
        "      try: counts[d[1]] += 1\n",
        "      except: counts[d[1]] = 1\n",
        "    return max(counts, key = lambda i: counts[i])\n",
        "\n",
        "  def predict(self, X):\n",
        "    preds = []\n",
        "    for x in X:\n",
        "      preds.append(self.__get_class(x))\n",
        "    return preds\n",
        "\n",
        "  def __get_weighted_class(self, X):\n",
        "    distances = []\n",
        "    for i in range(len(self.X)):\n",
        "      distances.append((self.__distance(X, self.X[i]), self.y[i]))\n",
        "    distances.sort()\n",
        "    distances = distances[:self.k]\n",
        "    counts = {}\n",
        "    for d in distances:\n",
        "      try: counts[d[1]] += 1 / d[0]\n",
        "      except: counts[d[1]] = 1 / d[0]\n",
        "    return max(counts, key = lambda i: counts[i])\n",
        "\n",
        "  def predict_weighted(self, X):\n",
        "    preds = []\n",
        "    for x in X:\n",
        "      preds.append(self.__get_weighted_class(x))\n",
        "    return preds\n",
        "\n",
        "  def __get_locally_weighted_average_class(self, X):\n",
        "    distances = []\n",
        "    for i in range(len(self.X)):\n",
        "      distances.append((self.__distance(X, self.X[i]), self.y[i]))\n",
        "    distances.sort()\n",
        "    distances = distances[:self.k]\n",
        "    counts = {}\n",
        "    for d in distances:\n",
        "      try: counts[d[1]].append(1 / d[0])\n",
        "      except: counts[d[1]] = [1 / d[0]]\n",
        "    for c in counts:\n",
        "      counts[c] = np.mean(counts[c])\n",
        "    return max(counts, key = lambda i: counts[i])\n",
        "\n",
        "  def predict_locally_weighted_average(self, X):\n",
        "    preds = []\n",
        "    for x in X:\n",
        "      preds.append(self.__get_weighted_class(x))\n",
        "    return preds"
      ],
      "metadata": {
        "id": "qA-W07unqxL3"
      },
      "execution_count": 2,
      "outputs": []
    },
    {
      "cell_type": "code",
      "source": [
        "X = [\n",
        "     (2, 4),\n",
        "     (4, 6),\n",
        "     (4, 4),\n",
        "     (4, 2),\n",
        "     (6, 4),\n",
        "     (6 ,2)\n",
        "]\n",
        "y = ['Y', 'Y', 'B', 'Y', 'Y', 'B']"
      ],
      "metadata": {
        "id": "JZfsyoOqqx-u"
      },
      "execution_count": 3,
      "outputs": []
    },
    {
      "cell_type": "code",
      "source": [
        "model = kNN(3)"
      ],
      "metadata": {
        "id": "EyQsxGHXqy3X"
      },
      "execution_count": 4,
      "outputs": []
    },
    {
      "cell_type": "code",
      "source": [
        "model.fit(X, y)"
      ],
      "metadata": {
        "id": "I-KnpxE2qzmj"
      },
      "execution_count": 5,
      "outputs": []
    },
    {
      "cell_type": "code",
      "source": [
        "print(f'Standard k-NN: {model.predict([(6, 6)])}')"
      ],
      "metadata": {
        "colab": {
          "base_uri": "https://localhost:8080/"
        },
        "id": "cNZO-d74q0ZO",
        "outputId": "3fb198f9-4a1c-41bc-de19-88b09ea2c3ca"
      },
      "execution_count": 6,
      "outputs": [
        {
          "output_type": "stream",
          "name": "stdout",
          "text": [
            "Standard k-NN: ['Y']\n"
          ]
        }
      ]
    },
    {
      "cell_type": "code",
      "source": [
        "print(f'Distance Weighted k-NN: {model.predict_weighted([(6, 6)])}')"
      ],
      "metadata": {
        "colab": {
          "base_uri": "https://localhost:8080/"
        },
        "id": "bdOtqRByq1WL",
        "outputId": "ea9f7485-2576-409a-f762-3a5d22a77f22"
      },
      "execution_count": 7,
      "outputs": [
        {
          "output_type": "stream",
          "name": "stdout",
          "text": [
            "Distance Weighted k-NN: ['Y']\n"
          ]
        }
      ]
    },
    {
      "cell_type": "code",
      "source": [
        "print(f'Locally Weighted Average k-NN: {model.predict_locally_weighted_average([(6, 6)])}')"
      ],
      "metadata": {
        "colab": {
          "base_uri": "https://localhost:8080/"
        },
        "id": "gJIi39vBq2az",
        "outputId": "1c8f0374-57fb-436c-d2df-3c863b179eb4"
      },
      "execution_count": 8,
      "outputs": [
        {
          "output_type": "stream",
          "name": "stdout",
          "text": [
            "Locally Weighted Average k-NN: ['Y']\n"
          ]
        }
      ]
    }
  ]
}