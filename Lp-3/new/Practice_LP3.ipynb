{
 "cells": [
  {
   "cell_type": "markdown",
   "metadata": {},
   "source": [
    "# LINEAR REGRESSION"
   ]
  },
  {
   "cell_type": "code",
   "execution_count": 331,
   "metadata": {},
   "outputs": [],
   "source": [
    "import numpy as np\n",
    "import matplotlib.pyplot as plt\n",
    "import seaborn as sns\n",
    "# sns.set(rc = {'figure.figsize':(8,8)})"
   ]
  },
  {
   "cell_type": "code",
   "execution_count": 332,
   "metadata": {},
   "outputs": [],
   "source": [
    "data = [\n",
    "    (7,12),\n",
    "    (20,35),\n",
    "    (49,78),\n",
    "    (17,53),\n",
    "    (20,95),\n",
    "    (45,99),\n",
    "    (14,78),\n",
    "    (34,56)\n",
    "]"
   ]
  },
  {
   "cell_type": "code",
   "execution_count": 333,
   "metadata": {},
   "outputs": [],
   "source": [
    "x = [pt[0] for pt in data]\n",
    "y = [pt[1] for pt in data]"
   ]
  },
  {
   "cell_type": "code",
   "execution_count": 334,
   "metadata": {},
   "outputs": [
    {
     "data": {
      "text/plain": [
       "<matplotlib.axes._subplots.AxesSubplot at 0x1f7fea082e0>"
      ]
     },
     "execution_count": 334,
     "metadata": {},
     "output_type": "execute_result"
    },
    {
     "data": {
      "image/png": "[encoded data removed]",
      "text/plain": [
       "<Figure size 432x288 with 1 Axes>"
      ]
     },
     "metadata": {
      "needs_background": "light"
     },
     "output_type": "display_data"
    }
   ],
   "source": [
    "sns.scatterplot(x=x, y=y, s=100)"
   ]
  },
  {
   "cell_type": "code",
   "execution_count": 335,
   "metadata": {},
   "outputs": [],
   "source": [
    "n = len(x)\n",
    "xx = [a * a for a in x]\n",
    "xy = [x[i] * y[i] for i in range(n)]"
   ]
  },
  {
   "cell_type": "code",
   "execution_count": 336,
   "metadata": {},
   "outputs": [],
   "source": [
    "sum_x = np.sum(x)\n",
    "sum_y = np.sum(y)\n",
    "sum_xx = np.sum(xx)\n",
    "sum_xy = np.sum(xy)"
   ]
  },
  {
   "cell_type": "code",
   "execution_count": 337,
   "metadata": {},
   "outputs": [],
   "source": [
    "m = (n * sum_xy - sum_x * sum_y) / (n* sum_xx - sum_x * sum_x)\n",
    "b = (sum_y - m * sum_x) / n"
   ]
  },
  {
   "cell_type": "code",
   "execution_count": 338,
   "metadata": {},
   "outputs": [
    {
     "name": "stdout",
     "output_type": "stream",
     "text": [
      "Line equation : y = 1.13 * x + 34.03\n"
     ]
    }
   ],
   "source": [
    "print(f'Line equation : y = {round(m,2)} * x + {round(b,2)}')"
   ]
  },
  {
   "cell_type": "code",
   "execution_count": 339,
   "metadata": {},
   "outputs": [],
   "source": [
    "def plotgraph(x, y, slope, intercept):\n",
    "    axes = sns.scatterplot(x=x, y=y, s=100)\n",
    "    x_val = np.array(axes.get_xlim())\n",
    "    y_val = slope * x_val + intercept\n",
    "    plt.plot(x_val, y_val, '-', color='red')"
   ]
  },
  {
   "cell_type": "code",
   "execution_count": 340,
   "metadata": {},
   "outputs": [
    {
     "data": {
      "image/png": "[encoded data removed]",
      "text/plain": [
       "<Figure size 432x288 with 1 Axes>"
      ]
     },
     "metadata": {
      "needs_background": "light"
     },
     "output_type": "display_data"
    }
   ],
   "source": [
    "plotgraph(x, y, m, b)"
   ]
  },
  {
   "cell_type": "markdown",
   "metadata": {},
   "source": [
    "# K MEANS"
   ]
  },
  {
   "cell_type": "code",
   "execution_count": 341,
   "metadata": {},
   "outputs": [],
   "source": [
    "import pandas as pd\n",
    "import numpy as np\n",
    "import seaborn as sns"
   ]
  },
  {
   "cell_type": "code",
   "execution_count": 342,
   "metadata": {},
   "outputs": [],
   "source": [
    "class Kmeans:\n",
    "    def __init__(self, k):\n",
    "        self.k = k     \n",
    "    \n",
    "    def __distance(self, x, y):\n",
    "        return (x[0] - y[0]) ** 2 + (x[1] - y[1]) ** 2\n",
    "    \n",
    "    def fit(self, points, centroids):\n",
    "        prev_clusters = None\n",
    "        clusters = [set() for _ in range(self.k)]\n",
    "        \n",
    "        while prev_clusters != clusters:\n",
    "            prev_clusters = clusters\n",
    "            for p in points:\n",
    "                idx = 0\n",
    "                for i in range(1, self.k):\n",
    "                    if self.__distance(p, centroids[i]) < self.__distance(p, centroids[idx]):\n",
    "                        idx = i\n",
    "                clusters[idx].add(p)\n",
    "            for i in range(self.k):\n",
    "                centroids[i] = np.mean(list(clusters[i]), axis = 0)\n",
    "        return clusters, centroids"
   ]
  },
  {
   "cell_type": "code",
   "execution_count": 343,
   "metadata": {},
   "outputs": [],
   "source": [
    "points = [\n",
    "          (0.1, 0.6),\n",
    "          (0.15, 0.71),\n",
    "          (0.08,0.9),\n",
    "          (0.16, 0.85),\n",
    "          (0.2,0.3),\n",
    "          (0.25,0.5),\n",
    "          (0.24,0.1),\n",
    "          (0.3,0.2)\n",
    "]"
   ]
  },
  {
   "cell_type": "markdown",
   "metadata": {},
   "source": [
    "Before Clustering"
   ]
  },
  {
   "cell_type": "code",
   "execution_count": 344,
   "metadata": {},
   "outputs": [
    {
     "data": {
      "text/html": [
       "<div>\n",
       "<style scoped>\n",
       "    .dataframe tbody tr th:only-of-type {\n",
       "        vertical-align: middle;\n",
       "    }\n",
       "\n",
       "    .dataframe tbody tr th {\n",
       "        vertical-align: top;\n",
       "    }\n",
       "\n",
       "    .dataframe thead th {\n",
       "        text-align: right;\n",
       "    }\n",
       "</style>\n",
       "<table border=\"1\" class=\"dataframe\">\n",
       "  <thead>\n",
       "    <tr style=\"text-align: right;\">\n",
       "      <th></th>\n",
       "      <th>x</th>\n",
       "      <th>y</th>\n",
       "    </tr>\n",
       "  </thead>\n",
       "  <tbody>\n",
       "    <tr>\n",
       "      <th>0</th>\n",
       "      <td>0.10</td>\n",
       "      <td>0.60</td>\n",
       "    </tr>\n",
       "    <tr>\n",
       "      <th>1</th>\n",
       "      <td>0.15</td>\n",
       "      <td>0.71</td>\n",
       "    </tr>\n",
       "    <tr>\n",
       "      <th>2</th>\n",
       "      <td>0.08</td>\n",
       "      <td>0.90</td>\n",
       "    </tr>\n",
       "    <tr>\n",
       "      <th>3</th>\n",
       "      <td>0.16</td>\n",
       "      <td>0.85</td>\n",
       "    </tr>\n",
       "    <tr>\n",
       "      <th>4</th>\n",
       "      <td>0.20</td>\n",
       "      <td>0.30</td>\n",
       "    </tr>\n",
       "    <tr>\n",
       "      <th>5</th>\n",
       "      <td>0.25</td>\n",
       "      <td>0.50</td>\n",
       "    </tr>\n",
       "    <tr>\n",
       "      <th>6</th>\n",
       "      <td>0.24</td>\n",
       "      <td>0.10</td>\n",
       "    </tr>\n",
       "    <tr>\n",
       "      <th>7</th>\n",
       "      <td>0.30</td>\n",
       "      <td>0.20</td>\n",
       "    </tr>\n",
       "  </tbody>\n",
       "</table>\n",
       "</div>"
      ],
      "text/plain": [
       "      x     y\n",
       "0  0.10  0.60\n",
       "1  0.15  0.71\n",
       "2  0.08  0.90\n",
       "3  0.16  0.85\n",
       "4  0.20  0.30\n",
       "5  0.25  0.50\n",
       "6  0.24  0.10\n",
       "7  0.30  0.20"
      ]
     },
     "execution_count": 344,
     "metadata": {},
     "output_type": "execute_result"
    }
   ],
   "source": [
    "raw_df = pd.DataFrame()\n",
    "x = [p[0] for p in points]\n",
    "y = [p[1] for p in points]\n",
    "raw_df['x'] = x\n",
    "raw_df['y'] = y\n",
    "raw_df"
   ]
  },
  {
   "cell_type": "code",
   "execution_count": 345,
   "metadata": {},
   "outputs": [
    {
     "data": {
      "text/plain": [
       "<matplotlib.axes._subplots.AxesSubplot at 0x1f7fdde51c0>"
      ]
     },
     "execution_count": 345,
     "metadata": {},
     "output_type": "execute_result"
    },
    {
     "data": {
      "image/png": "[encoded data removed]",
      "text/plain": [
       "<Figure size 432x288 with 1 Axes>"
      ]
     },
     "metadata": {
      "needs_background": "light"
     },
     "output_type": "display_data"
    }
   ],
   "source": [
    "sns.scatterplot(data = raw_df, x = 'x', y = 'y')"
   ]
  },
  {
   "cell_type": "markdown",
   "metadata": {},
   "source": [
    "After Clustering"
   ]
  },
  {
   "cell_type": "code",
   "execution_count": 346,
   "metadata": {},
   "outputs": [],
   "source": [
    "model = Kmeans(2)"
   ]
  },
  {
   "cell_type": "code",
   "execution_count": 347,
   "metadata": {},
   "outputs": [],
   "source": [
    "clusters, centroids = model.fit(points, centroids = [(0.1, 0.6),(0.3,0.2)])"
   ]
  },
  {
   "cell_type": "code",
   "execution_count": 348,
   "metadata": {},
   "outputs": [
    {
     "data": {
      "text/html": [
       "<div>\n",
       "<style scoped>\n",
       "    .dataframe tbody tr th:only-of-type {\n",
       "        vertical-align: middle;\n",
       "    }\n",
       "\n",
       "    .dataframe tbody tr th {\n",
       "        vertical-align: top;\n",
       "    }\n",
       "\n",
       "    .dataframe thead th {\n",
       "        text-align: right;\n",
       "    }\n",
       "</style>\n",
       "<table border=\"1\" class=\"dataframe\">\n",
       "  <thead>\n",
       "    <tr style=\"text-align: right;\">\n",
       "      <th></th>\n",
       "      <th>x</th>\n",
       "      <th>y</th>\n",
       "      <th>Category</th>\n",
       "    </tr>\n",
       "  </thead>\n",
       "  <tbody>\n",
       "    <tr>\n",
       "      <th>0</th>\n",
       "      <td>0.150000</td>\n",
       "      <td>0.710</td>\n",
       "      <td>0</td>\n",
       "    </tr>\n",
       "    <tr>\n",
       "      <th>1</th>\n",
       "      <td>0.250000</td>\n",
       "      <td>0.500</td>\n",
       "      <td>0</td>\n",
       "    </tr>\n",
       "    <tr>\n",
       "      <th>2</th>\n",
       "      <td>0.100000</td>\n",
       "      <td>0.600</td>\n",
       "      <td>0</td>\n",
       "    </tr>\n",
       "    <tr>\n",
       "      <th>3</th>\n",
       "      <td>0.160000</td>\n",
       "      <td>0.850</td>\n",
       "      <td>0</td>\n",
       "    </tr>\n",
       "    <tr>\n",
       "      <th>4</th>\n",
       "      <td>0.080000</td>\n",
       "      <td>0.900</td>\n",
       "      <td>0</td>\n",
       "    </tr>\n",
       "    <tr>\n",
       "      <th>5</th>\n",
       "      <td>0.240000</td>\n",
       "      <td>0.100</td>\n",
       "      <td>1</td>\n",
       "    </tr>\n",
       "    <tr>\n",
       "      <th>6</th>\n",
       "      <td>0.200000</td>\n",
       "      <td>0.300</td>\n",
       "      <td>1</td>\n",
       "    </tr>\n",
       "    <tr>\n",
       "      <th>7</th>\n",
       "      <td>0.300000</td>\n",
       "      <td>0.200</td>\n",
       "      <td>1</td>\n",
       "    </tr>\n",
       "    <tr>\n",
       "      <th>8</th>\n",
       "      <td>0.148000</td>\n",
       "      <td>0.712</td>\n",
       "      <td>Centroid</td>\n",
       "    </tr>\n",
       "    <tr>\n",
       "      <th>9</th>\n",
       "      <td>0.246667</td>\n",
       "      <td>0.200</td>\n",
       "      <td>Centroid</td>\n",
       "    </tr>\n",
       "  </tbody>\n",
       "</table>\n",
       "</div>"
      ],
      "text/plain": [
       "          x      y  Category\n",
       "0  0.150000  0.710         0\n",
       "1  0.250000  0.500         0\n",
       "2  0.100000  0.600         0\n",
       "3  0.160000  0.850         0\n",
       "4  0.080000  0.900         0\n",
       "5  0.240000  0.100         1\n",
       "6  0.200000  0.300         1\n",
       "7  0.300000  0.200         1\n",
       "8  0.148000  0.712  Centroid\n",
       "9  0.246667  0.200  Centroid"
      ]
     },
     "execution_count": 348,
     "metadata": {},
     "output_type": "execute_result"
    }
   ],
   "source": [
    "clustered_df = pd.DataFrame()\n",
    "x=[]\n",
    "y=[]\n",
    "category=[]\n",
    "for i in range(len(clusters)):\n",
    "    for p in clusters[i]:\n",
    "        x.append(p[0])\n",
    "        y.append(p[1])\n",
    "        category.append(f'{i}')\n",
    "for c in centroids:\n",
    "    x.append(c[0])\n",
    "    y.append(c[1])\n",
    "    category.append('Centroid')\n",
    "clustered_df['x'] = x\n",
    "clustered_df['y'] = y\n",
    "clustered_df['Category'] = category\n",
    "clustered_df"
   ]
  },
  {
   "cell_type": "code",
   "execution_count": 349,
   "metadata": {},
   "outputs": [
    {
     "name": "stdout",
     "output_type": "stream",
     "text": [
      "number of points in cluster 1 is : 3\n"
     ]
    }
   ],
   "source": [
    "print(f'number of points in cluster 1 is : {len(clusters[1])}')"
   ]
  },
  {
   "cell_type": "code",
   "execution_count": 350,
   "metadata": {},
   "outputs": [
    {
     "data": {
      "text/plain": [
       "<matplotlib.axes._subplots.AxesSubplot at 0x1f7fe619f40>"
      ]
     },
     "execution_count": 350,
     "metadata": {},
     "output_type": "execute_result"
    },
    {
     "data": {
      "image/png": "[encoded data removed]",
      "text/plain": [
       "<Figure size 432x288 with 1 Axes>"
      ]
     },
     "metadata": {
      "needs_background": "light"
     },
     "output_type": "display_data"
    }
   ],
   "source": [
    "sns.scatterplot(data = clustered_df, x = 'x', y = 'y', hue = 'Category')"
   ]
  },
  {
   "cell_type": "markdown",
   "metadata": {},
   "source": [
    "# SDES"
   ]
  },
  {
   "cell_type": "code",
   "execution_count": 351,
   "metadata": {},
   "outputs": [],
   "source": [
    "P10 = [3, 5, 2, 7, 4, 10, 1, 9, 8, 6]\n",
    "P8 = [6, 3, 7, 4, 8, 5, 10, 9]"
   ]
  },
  {
   "cell_type": "code",
   "execution_count": 352,
   "metadata": {},
   "outputs": [],
   "source": [
    "def apply_permutation(x, p):\n",
    "    res = []\n",
    "    for i in p:\n",
    "        res.append(x[i-1])\n",
    "    return res"
   ]
  },
  {
   "cell_type": "code",
   "execution_count": 353,
   "metadata": {},
   "outputs": [],
   "source": [
    "def left_shift(x, places = 1):\n",
    "    places %= len(x)\n",
    "    return x[places:] + x[:places]"
   ]
  },
  {
   "cell_type": "code",
   "execution_count": 354,
   "metadata": {},
   "outputs": [],
   "source": [
    "key = [1, 1, 0, 0, 0, 1, 1, 1, 1, 0]\n",
    "# key = [1,0,1,0,0,0,1,0,1,1]"
   ]
  },
  {
   "cell_type": "code",
   "execution_count": 355,
   "metadata": {},
   "outputs": [
    {
     "name": "stdout",
     "output_type": "stream",
     "text": [
      "key after P10 : [0, 0, 1, 1, 0, 0, 1, 1, 1, 1]\n"
     ]
    }
   ],
   "source": [
    "key_p10 = apply_permutation(key, P10)\n",
    "print(f'key after P10 : {key_p10}')"
   ]
  },
  {
   "cell_type": "code",
   "execution_count": 356,
   "metadata": {},
   "outputs": [
    {
     "name": "stdout",
     "output_type": "stream",
     "text": [
      "after left shift, left : [0, 1, 1, 0, 0] and right : [1, 1, 1, 1, 0]\n"
     ]
    }
   ],
   "source": [
    "l = key_p10[:5]\n",
    "r = key_p10[5:]\n",
    "l_s1 = left_shift(l, 1)\n",
    "r_s1 = left_shift(r, 1)\n",
    "print(f'after left shift, left : {l_s1} and right : {r_s1}')"
   ]
  },
  {
   "cell_type": "code",
   "execution_count": 357,
   "metadata": {},
   "outputs": [
    {
     "name": "stdout",
     "output_type": "stream",
     "text": [
      "key 1 : [1, 1, 1, 0, 1, 0, 0, 1]\n"
     ]
    }
   ],
   "source": [
    "key_ls_1 = l_s1 + r_s1\n",
    "k1 = apply_permutation(key_ls_1, P8)\n",
    "print(f'key 1 : {k1}')"
   ]
  },
  {
   "cell_type": "code",
   "execution_count": 358,
   "metadata": {},
   "outputs": [
    {
     "name": "stdout",
     "output_type": "stream",
     "text": [
      "after left shift, left : [1, 0, 0, 0, 1] and right : [1, 1, 0, 1, 1]\n"
     ]
    }
   ],
   "source": [
    "l_s2 = left_shift(l_s1, 2)\n",
    "r_s2 = left_shift(r_s1, 2)\n",
    "print(f'after left shift, left : {l_s2} and right : {r_s2}')"
   ]
  },
  {
   "cell_type": "code",
   "execution_count": 359,
   "metadata": {},
   "outputs": [
    {
     "name": "stdout",
     "output_type": "stream",
     "text": [
      "key 2 : [1, 0, 1, 0, 0, 1, 1, 1]\n"
     ]
    }
   ],
   "source": [
    "key_ls_2 = l_s2 + r_s2\n",
    "k2 = apply_permutation(key_ls_2, P8)\n",
    "print(f'key 2 : {k2}')"
   ]
  },
  {
   "cell_type": "code",
   "execution_count": 360,
   "metadata": {},
   "outputs": [
    {
     "name": "stdout",
     "output_type": "stream",
     "text": [
      "key 1 : [1, 1, 1, 0, 1, 0, 0, 1]\n",
      "key 2 : [1, 0, 1, 0, 0, 1, 1, 1]\n"
     ]
    }
   ],
   "source": [
    "print(f'key 1 : {k1}')\n",
    "print(f'key 2 : {k2}')"
   ]
  },
  {
   "cell_type": "markdown",
   "metadata": {},
   "source": [
    "Encryption"
   ]
  },
  {
   "cell_type": "code",
   "execution_count": 361,
   "metadata": {},
   "outputs": [],
   "source": [
    "plain_text = [0, 0, 1, 0, 1, 0, 0, 0]\n",
    "# plain_text = [1,0,1,0,0,1,0,1]"
   ]
  },
  {
   "cell_type": "code",
   "execution_count": 362,
   "metadata": {},
   "outputs": [],
   "source": [
    "initial_permutation = [2, 6, 3, 1, 4, 8, 5, 7]\n",
    "expansion_permutation = [4, 1, 2, 3, 2, 3, 4, 1]\n",
    "P4 = [2, 4, 3, 1]\n",
    "inv_initial_permutation = [4, 1, 3, 5, 7, 2, 8, 6]"
   ]
  },
  {
   "cell_type": "code",
   "execution_count": 363,
   "metadata": {},
   "outputs": [],
   "source": [
    "def xor_func(x, y):\n",
    "    res = []\n",
    "    for i in range(len(x)):\n",
    "        res.append(x[i] ^ y[i])\n",
    "    return res"
   ]
  },
  {
   "cell_type": "code",
   "execution_count": 364,
   "metadata": {},
   "outputs": [],
   "source": [
    "def two_halves(x):\n",
    "    n = len(x) // 2;\n",
    "    return x[:n], x[n:]"
   ]
  },
  {
   "cell_type": "code",
   "execution_count": 365,
   "metadata": {},
   "outputs": [],
   "source": [
    "S0 = [[1,0,3,2],\n",
    "      [3,2,1,0],\n",
    "      [0,2,1,3],\n",
    "      [3,1,3,2]]\n",
    "\n",
    "S1=  [[0,1,2,3],\n",
    "      [2,0,1,3],\n",
    "      [3,0,1,0],\n",
    "      [2,1,0,3]]\n",
    "\n",
    "def sbox_func(p, s):\n",
    "    row = int(f'{p[0]}{p[3]}',2)\n",
    "    col = int(f'{p[1]}{p[2]}',2)\n",
    "    val = s[row][col]\n",
    "    \n",
    "    if val == 0: return [0, 0]\n",
    "    elif val == 1: return [0, 1]\n",
    "    elif val == 2: return [1, 0]\n",
    "    else: return val[1, 1]"
   ]
  },
  {
   "cell_type": "code",
   "execution_count": 366,
   "metadata": {},
   "outputs": [],
   "source": [
    "def algo_rounds(plain, key, swap):\n",
    "    l, r = two_halves(plain)\n",
    "    r_new = apply_permutation(r, expansion_permutation)\n",
    "    r_new = xor_func(r_new, key)\n",
    "    r_new_l, r_new_r = two_halves(r_new)\n",
    "    r_new = sbox_func(r_new_l, S0) + sbox_func(r_new_r, S1)\n",
    "    r_new = apply_permutation(r_new, P4)\n",
    "    r_new = xor_func(l, r_new)\n",
    "    return r + r_new if swap else r_new + r"
   ]
  },
  {
   "cell_type": "code",
   "execution_count": 367,
   "metadata": {},
   "outputs": [
    {
     "name": "stdout",
     "output_type": "stream",
     "text": [
      " after initial permutation [0, 0, 1, 0, 0, 0, 1, 0]\n"
     ]
    }
   ],
   "source": [
    "plain_ip = apply_permutation(plain_text, initial_permutation)\n",
    "print(f' after initial permutation {plain_ip}')"
   ]
  },
  {
   "cell_type": "code",
   "execution_count": 368,
   "metadata": {},
   "outputs": [
    {
     "name": "stdout",
     "output_type": "stream",
     "text": [
      "[0, 0, 1, 0, 0, 0, 1, 1]\n"
     ]
    }
   ],
   "source": [
    "plain_ip = algo_rounds(plain_ip, k1, True)\n",
    "print(plain_ip)"
   ]
  },
  {
   "cell_type": "code",
   "execution_count": 369,
   "metadata": {},
   "outputs": [
    {
     "name": "stdout",
     "output_type": "stream",
     "text": [
      "[0, 0, 0, 1, 0, 0, 1, 1]\n"
     ]
    }
   ],
   "source": [
    "plain_ip = algo_rounds(plain_ip, k2, False)\n",
    "print(plain_ip)"
   ]
  },
  {
   "cell_type": "code",
   "execution_count": 370,
   "metadata": {},
   "outputs": [
    {
     "name": "stdout",
     "output_type": "stream",
     "text": [
      "[1, 0, 0, 0, 1, 0, 1, 0]\n"
     ]
    }
   ],
   "source": [
    "cipher_text = apply_permutation(plain_ip, inv_initial_permutation)\n",
    "print(cipher_text)"
   ]
  },
  {
   "cell_type": "markdown",
   "metadata": {},
   "source": [
    "Decryption"
   ]
  },
  {
   "cell_type": "code",
   "execution_count": 371,
   "metadata": {},
   "outputs": [
    {
     "name": "stdout",
     "output_type": "stream",
     "text": [
      "[0, 0, 0, 1, 0, 0, 1, 1]\n"
     ]
    }
   ],
   "source": [
    "cipher_ip = apply_permutation(cipher_text, initial_permutation)\n",
    "print(cipher_ip)"
   ]
  },
  {
   "cell_type": "code",
   "execution_count": 372,
   "metadata": {},
   "outputs": [
    {
     "name": "stdout",
     "output_type": "stream",
     "text": [
      "[0, 0, 1, 1, 0, 0, 1, 0]\n"
     ]
    }
   ],
   "source": [
    "cipher_ip = algo_rounds(cipher_ip, k2, True)\n",
    "print(cipher_ip)"
   ]
  },
  {
   "cell_type": "code",
   "execution_count": 373,
   "metadata": {},
   "outputs": [
    {
     "name": "stdout",
     "output_type": "stream",
     "text": [
      "[0, 0, 1, 0, 0, 0, 1, 0]\n"
     ]
    }
   ],
   "source": [
    "cipher_ip = algo_rounds(cipher_ip, k1, False)\n",
    "print(cipher_ip)"
   ]
  },
  {
   "cell_type": "code",
   "execution_count": 374,
   "metadata": {},
   "outputs": [
    {
     "name": "stdout",
     "output_type": "stream",
     "text": [
      "[0, 0, 1, 0, 1, 0, 0, 0]\n"
     ]
    }
   ],
   "source": [
    "decrypted_text = apply_permutation(cipher_ip, inv_initial_permutation)\n",
    "print(decrypted_text)"
   ]
  },
  {
   "cell_type": "markdown",
   "metadata": {},
   "source": [
    "# RSA"
   ]
  },
  {
   "cell_type": "code",
   "execution_count": 375,
   "metadata": {},
   "outputs": [],
   "source": [
    "import numpy as np\n",
    "import math\n",
    "from sympy import isprime"
   ]
  },
  {
   "cell_type": "code",
   "execution_count": 376,
   "metadata": {},
   "outputs": [],
   "source": [
    "class RSA:\n",
    "    def __init__(self):\n",
    "        self.p = 53 #self.__random_prime_no()\n",
    "        self.q = 59 #self.__random_prime_no()\n",
    "        self.n = self.p * self.q\n",
    "        self.phi = (self.p - 1) * (self.q - 1)\n",
    "        self.e = self.__generate_e()\n",
    "        self.d = self.__generate_d()\n",
    "\n",
    "#do only if necessary!\n",
    "#     def __random_prime_no(self):\n",
    "#         prime_no = [2, 3, 5, 7, 11, 13, 17, 19, 23, 29, 31, 37, 41, 43, 47, 53, 59, 61, 67, 71, 73, 79, 83, 89, 97]\n",
    "#         return np.random.choice(prime_no)\n",
    "    \n",
    "#     def __alternative_prime_func(self):\n",
    "#         res = []\n",
    "#         for i in range(100):\n",
    "#             if isprime(i): res.append(i)\n",
    "#         return np.random.choice(res)\n",
    "    \n",
    "    def __generate_e(self):\n",
    "        for i in range(2, self.phi):\n",
    "            if math.gcd(i, self.phi) == 1:\n",
    "                return i\n",
    "        return None\n",
    "    \n",
    "    def __generate_d(self):\n",
    "        for k in range(1, self.phi):\n",
    "            if (k * self.phi + 1) % self.e == 0:\n",
    "                return int((k * self.phi + 1) / self.e)\n",
    "        return None\n",
    "    \n",
    "    def getPublicKeys(self):\n",
    "        return self.n , self.e\n",
    "    \n",
    "    def encrypt(self, plaintext):\n",
    "        return (plaintext ** self.e) % self.n\n",
    "    \n",
    "    def decrypt(self, ciphertext):\n",
    "        return (ciphertext ** self.d) % self.n\n",
    "        \n",
    "            \n",
    "        "
   ]
  },
  {
   "cell_type": "code",
   "execution_count": 377,
   "metadata": {},
   "outputs": [],
   "source": [
    "process = RSA()"
   ]
  },
  {
   "cell_type": "code",
   "execution_count": 378,
   "metadata": {},
   "outputs": [
    {
     "name": "stdout",
     "output_type": "stream",
     "text": [
      "public keys : (3127, 3)\n"
     ]
    }
   ],
   "source": [
    "print(f'public keys : {process.getPublicKeys()}')"
   ]
  },
  {
   "cell_type": "code",
   "execution_count": 379,
   "metadata": {},
   "outputs": [
    {
     "name": "stdout",
     "output_type": "stream",
     "text": [
      "1394\n"
     ]
    }
   ],
   "source": [
    "plaintext = 89\n",
    "ciphertext = process.encrypt(plaintext)\n",
    "print(ciphertext)"
   ]
  },
  {
   "cell_type": "code",
   "execution_count": 380,
   "metadata": {},
   "outputs": [
    {
     "name": "stdout",
     "output_type": "stream",
     "text": [
      "89\n"
     ]
    }
   ],
   "source": [
    "wapas_plain = process.decrypt(ciphertext)\n",
    "print(wapas_plain)"
   ]
  },
  {
   "cell_type": "markdown",
   "metadata": {},
   "source": [
    "# ECC"
   ]
  },
  {
   "cell_type": "code",
   "execution_count": 391,
   "metadata": {},
   "outputs": [],
   "source": [
    "class ECC:\n",
    "    def __init__(self, a, b ,q, G, private_key):\n",
    "        self.a = a\n",
    "        self.b = b\n",
    "        self.q = q\n",
    "        self.G = G\n",
    "        self.private_key = private_key\n",
    "        self.public_key = self.__generate_public_key()\n",
    "    \n",
    "    def __round(self, p):\n",
    "        x, y = p\n",
    "        if abs(x - int(x)) < 0.0001: x = int(x)\n",
    "        if abs(y - int(y)) < 0.0001: y = int(y)\n",
    "        return (x, y)\n",
    "    \n",
    "    def negate(self, p):\n",
    "        return(p[0], -p[1])\n",
    "    \n",
    "    def add(self, p, q):\n",
    "        if p == q:\n",
    "            lamda = ((3 * (p[0] ** 2)) + a) / (2 * p[1])\n",
    "            x = (lamda ** 2) - (2 * p[0])\n",
    "            y = -p[1] + (lamda * (p[0] - x))\n",
    "        else:\n",
    "            lamda = (q[1] - p[1]) / (q[0] - p[0])\n",
    "            x = (lamda ** 2) - p[0] - q[0]\n",
    "            y = -p[1] + (lamda * (p[0] - x))\n",
    "        return self.__round((x, y))\n",
    "    \n",
    "    def sub(self, p, q):\n",
    "        return self.add(p, self.negate(q))\n",
    "    \n",
    "    def dot(self, k , p):\n",
    "        res = (p[0], p[1])\n",
    "        for _ in range(k - 1):\n",
    "            res = self.add(res, p)\n",
    "            res = self.negate(res)\n",
    "        return res\n",
    "    \n",
    "    def __generate_public_key(self):\n",
    "        return self.dot(self.private_key, self.G)\n",
    "    \n",
    "    def get_public_key(self):\n",
    "        return self.public_key\n",
    "    \n",
    "    def generate_secret_key(self, var_public_key):\n",
    "        return self.dot(self.private_key, var_public_key)\n",
    "    \n",
    "    def encrypt(self, message, var_public_key):\n",
    "        k = 3\n",
    "        return (self.dot(k, self.G), self.add(message, self.dot(k, var_public_key))) \n",
    "    \n",
    "    def decrypt(self, message):\n",
    "        return self.sub(message[1], self.dot(self.private_key, message[0]))"
   ]
  },
  {
   "cell_type": "code",
   "execution_count": 392,
   "metadata": {},
   "outputs": [],
   "source": [
    "a = 1\n",
    "b = 6\n",
    "q = 11\n",
    "G = (5, 2)"
   ]
  },
  {
   "cell_type": "code",
   "execution_count": 394,
   "metadata": {},
   "outputs": [],
   "source": [
    "ecc_user1 = ECC(a, b, q, G, 5)"
   ]
  },
  {
   "cell_type": "code",
   "execution_count": 396,
   "metadata": {},
   "outputs": [],
   "source": [
    "ecc_user2 = ECC(a, b, q, G, 8)"
   ]
  },
  {
   "cell_type": "code",
   "execution_count": null,
   "metadata": {},
   "outputs": [],
   "source": [
    "message = (2, 7)"
   ]
  },
  {
   "cell_type": "code",
   "execution_count": 399,
   "metadata": {},
   "outputs": [
    {
     "name": "stdout",
     "output_type": "stream",
     "text": [
      "message : (2, 7), ciphertext : ((5, 2), (1.2808433428296553, 6.536217996997118))\n"
     ]
    }
   ],
   "source": [
    "cipher = ecc_user1.encrypt(message, ecc_user2.get_public_key())\n",
    "print(f'message : {message}, ciphertext : {cipher}')"
   ]
  },
  {
   "cell_type": "code",
   "execution_count": 400,
   "metadata": {},
   "outputs": [
    {
     "name": "stdout",
     "output_type": "stream",
     "text": [
      "(2, 7)\n"
     ]
    }
   ],
   "source": [
    "decrypt_val = ecc_user2.decrypt(cipher)\n",
    "print(decrypt_msg)"
   ]
  },
  {
   "cell_type": "markdown",
   "metadata": {},
   "source": [
    "# KNN"
   ]
  },
  {
   "cell_type": "code",
   "execution_count": 410,
   "metadata": {},
   "outputs": [],
   "source": [
    "import numpy as np"
   ]
  },
  {
   "cell_type": "code",
   "execution_count": 416,
   "metadata": {},
   "outputs": [],
   "source": [
    "class KNN:\n",
    "    def __init__(self, k):\n",
    "        self.k = k\n",
    "        self.X = []\n",
    "        self.y = []\n",
    "    \n",
    "    def fit(self, X, y):\n",
    "        self.X = self.X + X\n",
    "        self.y = self.y + y\n",
    "        \n",
    "    def __distance(self, x, y):\n",
    "        return (x[0] - y[0]) ** 2 + (x[1] - y[1]) ** 2\n",
    "    \n",
    "    def __get_class(self, X):\n",
    "        distances = []\n",
    "        for i in range(len(X)):\n",
    "            distances.append((self.__distance(X, self.X[i]), y[i]))\n",
    "        distances.sort()\n",
    "        distances = distances[:self.k]\n",
    "        counts = {}\n",
    "        for d in distances:\n",
    "            try : counts[d[1]] += 1\n",
    "            except: counts[d[1]] = 1\n",
    "        return max(counts, key = lambda i: counts[i])\n",
    "    \n",
    "    def predict(self, X):\n",
    "        preds = []\n",
    "        for x in X:\n",
    "            preds.append(self.__get_class(x))\n",
    "        return preds\n",
    "    \n",
    "    def __get_weighted_class(self, X):\n",
    "        distances = []\n",
    "        for i in range(len(X)):\n",
    "            distances.append((self.__distance(X, self.X[i]), y[i]))\n",
    "        distances.sort()\n",
    "        distances = distances[:self.k]\n",
    "        counts = {}\n",
    "        for d in distances:\n",
    "            try : counts[d[1]] += 1 / d[0]\n",
    "            except: counts[d[1]] = 1 / d[0]\n",
    "        return max(counts, key = lambda i: counts[i])\n",
    "    \n",
    "    def predict_weighted(self, X):\n",
    "        preds = []\n",
    "        for x in X:\n",
    "            preds.append(self.__get_weighted_class(x))\n",
    "        return preds\n",
    "    \n",
    "    def __get_locally_weighted_average_class(self, X):\n",
    "        distances = []\n",
    "        for i in range(len(X)):\n",
    "            distances.append((self.__distance(X, self.X[i]), y[i]))\n",
    "        distances.sort()\n",
    "        distances = distances[:self.k]\n",
    "        counts = {}\n",
    "        for d in distances:\n",
    "            try : counts[d[1]].append(1 / d[0])\n",
    "            except: counts[d[1]] = [1 / d[0]]\n",
    "        for c in counts:\n",
    "            counts[c] = np.mean(counts[c])\n",
    "        return max(counts, key = lambda i: counts[i])\n",
    "    \n",
    "    def predict_locally_weighted_average_(self, X):\n",
    "        preds = []\n",
    "        for x in X:\n",
    "            preds.append(self.__get_locally_weighted_average_class(x))\n",
    "        return preds"
   ]
  },
  {
   "cell_type": "code",
   "execution_count": 417,
   "metadata": {},
   "outputs": [],
   "source": [
    "X = [\n",
    "     (2, 4),\n",
    "     (4, 6),\n",
    "     (4, 4),\n",
    "     (4, 2),\n",
    "     (6, 4),\n",
    "     (6 ,2)\n",
    "]\n",
    "y = ['Y', 'Y', 'B', 'Y', 'Y', 'B']"
   ]
  },
  {
   "cell_type": "code",
   "execution_count": 418,
   "metadata": {},
   "outputs": [],
   "source": [
    "model = KNN(3)"
   ]
  },
  {
   "cell_type": "code",
   "execution_count": 419,
   "metadata": {},
   "outputs": [],
   "source": [
    "model.fit(X, y)"
   ]
  },
  {
   "cell_type": "code",
   "execution_count": 420,
   "metadata": {},
   "outputs": [
    {
     "name": "stdout",
     "output_type": "stream",
     "text": [
      "Standard KNN : ['Y']\n"
     ]
    }
   ],
   "source": [
    "print(f'Standard KNN : {model.predict([(6,6)])}')"
   ]
  },
  {
   "cell_type": "code",
   "execution_count": 421,
   "metadata": {},
   "outputs": [
    {
     "name": "stdout",
     "output_type": "stream",
     "text": [
      "Distance Weighted KNN : ['Y']\n"
     ]
    }
   ],
   "source": [
    "print(f'Distance Weighted KNN : {model.predict_weighted([(6,6)])}')"
   ]
  },
  {
   "cell_type": "code",
   "execution_count": 422,
   "metadata": {},
   "outputs": [
    {
     "name": "stdout",
     "output_type": "stream",
     "text": [
      "locally Weighted average KNN : ['Y']\n"
     ]
    }
   ],
   "source": [
    "print(f'locally Weighted average KNN : {model.predict_locally_weighted_average_([(6,6)])}')"
   ]
  },
  {
   "cell_type": "markdown",
   "metadata": {},
   "source": [
    "# Diffie Hellman"
   ]
  },
  {
   "cell_type": "code",
   "execution_count": 1,
   "metadata": {},
   "outputs": [],
   "source": [
    "#public keys\n",
    "P = 17\n",
    "G = 31"
   ]
  },
  {
   "cell_type": "code",
   "execution_count": 2,
   "metadata": {},
   "outputs": [],
   "source": [
    "#private keys\n",
    "a = 13\n",
    "b = 9"
   ]
  },
  {
   "cell_type": "code",
   "execution_count": 3,
   "metadata": {},
   "outputs": [
    {
     "name": "stdout",
     "output_type": "stream",
     "text": [
      " keys generated are : 11, 7\n"
     ]
    }
   ],
   "source": [
    "#generate keys\n",
    "x = (G ** a) % P\n",
    "y = (G ** b) % P\n",
    "print(f' keys generated are : {x}, {y}')"
   ]
  },
  {
   "cell_type": "code",
   "execution_count": 5,
   "metadata": {},
   "outputs": [
    {
     "name": "stdout",
     "output_type": "stream",
     "text": [
      "secret keys generated are : 6, 6\n"
     ]
    }
   ],
   "source": [
    "#Secret keys\n",
    "key_a = (y ** a) % P\n",
    "key_b = (x ** b) % P\n",
    "print(f'secret keys generated are : {key_a}, {key_b}')"
   ]
  },
  {
   "cell_type": "markdown",
   "metadata": {},
   "source": [
    "# Decision Tree"
   ]
  },
  {
   "cell_type": "code",
   "execution_count": 6,
   "metadata": {},
   "outputs": [],
   "source": [
    "import numpy as np\n",
    "import pandas as pd"
   ]
  },
  {
   "cell_type": "code",
   "execution_count": 7,
   "metadata": {},
   "outputs": [],
   "source": [
    "columns = ['Age', 'Income', 'Gender', 'Marital Status', 'Buys']\n",
    "data = [['<21', 'High', 'Male', 'Single', 'No'],\n",
    "        ['<21', 'High', 'Male', 'Married', 'No'],\n",
    "        ['21-35', 'High', 'Male', 'Single', 'Yes'],\n",
    "        ['>35', 'Medium', 'Male', 'Single', 'Yes'],\n",
    "        ['>35', 'Low', 'Female', 'Single', 'Yes'],\n",
    "        ['>35', 'Low', 'Female', 'Married', 'No'],\n",
    "        ['21-35', 'Low', 'Female', 'Married', 'Yes'],\n",
    "        ['<21', 'Medium', 'Male', 'Single', 'No'],\n",
    "        ['<21', 'Low', 'Female', 'Married', 'Yes'],\n",
    "        ['>35', 'Medium', 'Female', 'Single', 'Yes'],\n",
    "        ['<21', 'Medium', 'Female', 'Married', 'Yes'],\n",
    "        ['21-35', 'Medium', 'Male', 'Married', 'Yes'],\n",
    "        ['21-35', 'High', 'Female', 'Single', 'Yes'],\n",
    "        ['>35', 'Medium', 'Male', 'Married', 'No']\n",
    "        ]\n",
    "df = pd.DataFrame(columns=columns, data=data)"
   ]
  },
  {
   "cell_type": "code",
   "execution_count": 8,
   "metadata": {},
   "outputs": [
    {
     "data": {
      "text/html": [
       "<div>\n",
       "<style scoped>\n",
       "    .dataframe tbody tr th:only-of-type {\n",
       "        vertical-align: middle;\n",
       "    }\n",
       "\n",
       "    .dataframe tbody tr th {\n",
       "        vertical-align: top;\n",
       "    }\n",
       "\n",
       "    .dataframe thead th {\n",
       "        text-align: right;\n",
       "    }\n",
       "</style>\n",
       "<table border=\"1\" class=\"dataframe\">\n",
       "  <thead>\n",
       "    <tr style=\"text-align: right;\">\n",
       "      <th></th>\n",
       "      <th>Age</th>\n",
       "      <th>Income</th>\n",
       "      <th>Gender</th>\n",
       "      <th>Marital Status</th>\n",
       "      <th>Buys</th>\n",
       "    </tr>\n",
       "  </thead>\n",
       "  <tbody>\n",
       "    <tr>\n",
       "      <th>0</th>\n",
       "      <td>&lt;21</td>\n",
       "      <td>High</td>\n",
       "      <td>Male</td>\n",
       "      <td>Single</td>\n",
       "      <td>No</td>\n",
       "    </tr>\n",
       "    <tr>\n",
       "      <th>1</th>\n",
       "      <td>&lt;21</td>\n",
       "      <td>High</td>\n",
       "      <td>Male</td>\n",
       "      <td>Married</td>\n",
       "      <td>No</td>\n",
       "    </tr>\n",
       "    <tr>\n",
       "      <th>2</th>\n",
       "      <td>21-35</td>\n",
       "      <td>High</td>\n",
       "      <td>Male</td>\n",
       "      <td>Single</td>\n",
       "      <td>Yes</td>\n",
       "    </tr>\n",
       "    <tr>\n",
       "      <th>3</th>\n",
       "      <td>&gt;35</td>\n",
       "      <td>Medium</td>\n",
       "      <td>Male</td>\n",
       "      <td>Single</td>\n",
       "      <td>Yes</td>\n",
       "    </tr>\n",
       "    <tr>\n",
       "      <th>4</th>\n",
       "      <td>&gt;35</td>\n",
       "      <td>Low</td>\n",
       "      <td>Female</td>\n",
       "      <td>Single</td>\n",
       "      <td>Yes</td>\n",
       "    </tr>\n",
       "    <tr>\n",
       "      <th>5</th>\n",
       "      <td>&gt;35</td>\n",
       "      <td>Low</td>\n",
       "      <td>Female</td>\n",
       "      <td>Married</td>\n",
       "      <td>No</td>\n",
       "    </tr>\n",
       "    <tr>\n",
       "      <th>6</th>\n",
       "      <td>21-35</td>\n",
       "      <td>Low</td>\n",
       "      <td>Female</td>\n",
       "      <td>Married</td>\n",
       "      <td>Yes</td>\n",
       "    </tr>\n",
       "    <tr>\n",
       "      <th>7</th>\n",
       "      <td>&lt;21</td>\n",
       "      <td>Medium</td>\n",
       "      <td>Male</td>\n",
       "      <td>Single</td>\n",
       "      <td>No</td>\n",
       "    </tr>\n",
       "    <tr>\n",
       "      <th>8</th>\n",
       "      <td>&lt;21</td>\n",
       "      <td>Low</td>\n",
       "      <td>Female</td>\n",
       "      <td>Married</td>\n",
       "      <td>Yes</td>\n",
       "    </tr>\n",
       "    <tr>\n",
       "      <th>9</th>\n",
       "      <td>&gt;35</td>\n",
       "      <td>Medium</td>\n",
       "      <td>Female</td>\n",
       "      <td>Single</td>\n",
       "      <td>Yes</td>\n",
       "    </tr>\n",
       "    <tr>\n",
       "      <th>10</th>\n",
       "      <td>&lt;21</td>\n",
       "      <td>Medium</td>\n",
       "      <td>Female</td>\n",
       "      <td>Married</td>\n",
       "      <td>Yes</td>\n",
       "    </tr>\n",
       "    <tr>\n",
       "      <th>11</th>\n",
       "      <td>21-35</td>\n",
       "      <td>Medium</td>\n",
       "      <td>Male</td>\n",
       "      <td>Married</td>\n",
       "      <td>Yes</td>\n",
       "    </tr>\n",
       "    <tr>\n",
       "      <th>12</th>\n",
       "      <td>21-35</td>\n",
       "      <td>High</td>\n",
       "      <td>Female</td>\n",
       "      <td>Single</td>\n",
       "      <td>Yes</td>\n",
       "    </tr>\n",
       "    <tr>\n",
       "      <th>13</th>\n",
       "      <td>&gt;35</td>\n",
       "      <td>Medium</td>\n",
       "      <td>Male</td>\n",
       "      <td>Married</td>\n",
       "      <td>No</td>\n",
       "    </tr>\n",
       "  </tbody>\n",
       "</table>\n",
       "</div>"
      ],
      "text/plain": [
       "      Age  Income  Gender Marital Status Buys\n",
       "0     <21    High    Male         Single   No\n",
       "1     <21    High    Male        Married   No\n",
       "2   21-35    High    Male         Single  Yes\n",
       "3     >35  Medium    Male         Single  Yes\n",
       "4     >35     Low  Female         Single  Yes\n",
       "5     >35     Low  Female        Married   No\n",
       "6   21-35     Low  Female        Married  Yes\n",
       "7     <21  Medium    Male         Single   No\n",
       "8     <21     Low  Female        Married  Yes\n",
       "9     >35  Medium  Female         Single  Yes\n",
       "10    <21  Medium  Female        Married  Yes\n",
       "11  21-35  Medium    Male        Married  Yes\n",
       "12  21-35    High  Female         Single  Yes\n",
       "13    >35  Medium    Male        Married   No"
      ]
     },
     "execution_count": 8,
     "metadata": {},
     "output_type": "execute_result"
    }
   ],
   "source": [
    "df"
   ]
  },
  {
   "cell_type": "code",
   "execution_count": 10,
   "metadata": {},
   "outputs": [],
   "source": [
    "class Node:\n",
    "    def __init__(self, attr: str, defi: bool, out: None):\n",
    "        self.attr = attr\n",
    "        self.defi = defi\n",
    "        self.out = out\n",
    "    \n",
    "    def getOutput(self, input):\n",
    "        if self.defi:\n",
    "            return self.out\n",
    "        return self.out[input[self.attr]].getOutput(input)\n",
    "    \n",
    "    def __str__(self):\n",
    "        return f' defi : {self.defi} , output : {self.out}'"
   ]
  },
  {
   "cell_type": "code",
   "execution_count": 23,
   "metadata": {},
   "outputs": [],
   "source": [
    "class DecisionTree:\n",
    "    def __init__(self, df, target: str):\n",
    "        self.df = df\n",
    "        self.target = target\n",
    "        \n",
    "    def __GiniIndex(self, df, colName):\n",
    "        tot = len(df[self.target])\n",
    "        unique_output = df[self.target].unique()\n",
    "        uniqueVals = df[colName].value_counts()\n",
    "        giniArr = {}\n",
    "        for i in uniqueVals.keys():\n",
    "            giniInd = 1\n",
    "            for j in unique_output:\n",
    "                t = df[df[colName] == i]\n",
    "                t = t[t[self.target] == j]\n",
    "                t = len(t[self.target])\n",
    "                giniInd -= (t / uniqueVals[i])**2\n",
    "                giniArr[i] = giniInd\n",
    "        gini_final = 0\n",
    "        for i in giniArr:\n",
    "            gini_final += (uniqueVals[i] / tot) * giniArr[i]\n",
    "        return gini_final\n",
    "    \n",
    "    def __getAllGini(self, df):\n",
    "            giniDict = {}\n",
    "            for i in df.columns:\n",
    "                if i !=self.target:\n",
    "                    giniDict[i] = self.__GiniIndex(df, i)\n",
    "            return giniDict\n",
    "            \n",
    "    def buildTree(self, df):\n",
    "        giniDict = self.__getAllGini(df)\n",
    "        col = min(giniDict, key = giniDict.get)\n",
    "        uniqueVals = df[col].unique()\n",
    "        istargetunique = len(df[self.target].unique()) == 1\n",
    "        if istargetunique:\n",
    "            defi = True\n",
    "            out = df[self.target].unique()[0]\n",
    "            return Node(col, defi, out)\n",
    "        elif len(df.columns) == 2:\n",
    "            defi = True\n",
    "            out = df[self.target].value_counts().idxmax()\n",
    "            return Node(col, defi, out)\n",
    "        else:\n",
    "            defi = False\n",
    "            outMap = {}\n",
    "            for i in uniqueVals:\n",
    "                sub_df = df[df[col] == i]\n",
    "                sub_df = sub_df.drop(columns=[col], axis = 1)\n",
    "                outMap[i] = self.buildTree(sub_df)\n",
    "            return Node(col, defi, outMap)\n",
    "        "
   ]
  },
  {
   "cell_type": "code",
   "execution_count": 24,
   "metadata": {},
   "outputs": [],
   "source": [
    "dt = DecisionTree(df, 'Buys')\n",
    "root = dt.buildTree(df)"
   ]
  },
  {
   "cell_type": "code",
   "execution_count": 25,
   "metadata": {},
   "outputs": [
    {
     "name": "stdout",
     "output_type": "stream",
     "text": [
      " defi : False , output : {'<21': <__main__.Node object at 0x0000014693924AF0>, '21-35': <__main__.Node object at 0x0000014693924B50>, '>35': <__main__.Node object at 0x00000146939240D0>}\n"
     ]
    }
   ],
   "source": [
    "print(str(root))"
   ]
  },
  {
   "cell_type": "code",
   "execution_count": 26,
   "metadata": {},
   "outputs": [
    {
     "data": {
      "text/plain": [
       "'Yes'"
      ]
     },
     "execution_count": 26,
     "metadata": {},
     "output_type": "execute_result"
    }
   ],
   "source": [
    "root.getOutput({'Age':'<21', 'Income':'Low','Gender':'Female','Marital Status':'Married'})"
   ]
  }
 ],
 "metadata": {
  "kernelspec": {
   "display_name": "Python 3",
   "language": "python",
   "name": "python3"
  },
  "language_info": {
   "codemirror_mode": {
    "name": "ipython",
    "version": 3
   },
   "file_extension": ".py",
   "mimetype": "text/x-python",
   "name": "python",
   "nbconvert_exporter": "python",
   "pygments_lexer": "ipython3",
   "version": "3.8.3"
  }
 },
 "nbformat": 4,
 "nbformat_minor": 4
}
