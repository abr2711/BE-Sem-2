{
  "nbformat": 4,
  "nbformat_minor": 0,
  "metadata": {
    "colab": {
      "name": "SCOA4.ipynb",
      "provenance": []
    },
    "kernelspec": {
      "name": "python3",
      "display_name": "Python 3"
    },
    "language_info": {
      "name": "python"
    }
  },
  "cells": [
    {
      "cell_type": "code",
      "execution_count": null,
      "metadata": {
        "id": "q2CMsQMMmWbn"
      },
      "outputs": [],
      "source": [
        "import numpy as np"
      ]
    },
    {
      "cell_type": "code",
      "source": [
        "class NeuralNet:\n",
        "  def __init__(self, input_nodes):\n",
        "    self.n = input_nodes\n",
        "    self.w = np.zeros((self.n))\n",
        "    self.b = 0\n",
        "\n",
        "  def __train(self, x, y):\n",
        "    self.w += np.array(x) * y\n",
        "    self.b += y\n",
        "\n",
        "  def fit(self, X, y):\n",
        "    assert len(X[0]) == self.n, \"Invalid input shape.\"\n",
        "    for i in range(len(X)):\n",
        "      self.__train(X[i], y[i])\n",
        "\n",
        "  def predict(self, X):\n",
        "    return np.sum(self.w * X, axis = 1) + self.b"
      ],
      "metadata": {
        "id": "xedPCWyHmfRV"
      },
      "execution_count": null,
      "outputs": []
    },
    {
      "cell_type": "markdown",
      "source": [
        "OR GATE"
      ],
      "metadata": {
        "id": "VXLz3eYBmik4"
      }
    },
    {
      "cell_type": "code",
      "source": [
        "or_model = NeuralNet(2)"
      ],
      "metadata": {
        "id": "JqnzFSo0mjzI"
      },
      "execution_count": null,
      "outputs": []
    },
    {
      "cell_type": "code",
      "source": [
        "X = [\n",
        "     [-1, -1],\n",
        "     [-1, 1],\n",
        "     [1, -1],\n",
        "     [1, 1]\n",
        "]\n",
        "y = [-1, 1, 1, 1]"
      ],
      "metadata": {
        "id": "F4JF-U6amlpi"
      },
      "execution_count": null,
      "outputs": []
    },
    {
      "cell_type": "code",
      "source": [
        "or_model.fit(X, y)"
      ],
      "metadata": {
        "id": "x6vjCCdDmmWT"
      },
      "execution_count": null,
      "outputs": []
    },
    {
      "cell_type": "code",
      "source": [
        "or_model.w\n",
        "or_model.b"
      ],
      "metadata": {
        "colab": {
          "base_uri": "https://localhost:8080/"
        },
        "id": "o6Z-lMqLmnBN",
        "outputId": "5f9477be-827a-44a3-b181-b01c3b34bda6"
      },
      "execution_count": null,
      "outputs": [
        {
          "output_type": "execute_result",
          "data": {
            "text/plain": [
              "2"
            ]
          },
          "metadata": {},
          "execution_count": 34
        }
      ]
    },
    {
      "cell_type": "code",
      "source": [
        "or_model.predict(X)"
      ],
      "metadata": {
        "colab": {
          "base_uri": "https://localhost:8080/"
        },
        "id": "FPlT7TcBmn09",
        "outputId": "f0ab51d1-4cf1-4620-d986-e5965e2fe162"
      },
      "execution_count": null,
      "outputs": [
        {
          "output_type": "execute_result",
          "data": {
            "text/plain": [
              "array([-2.,  2.,  2.,  6.])"
            ]
          },
          "metadata": {},
          "execution_count": 35
        }
      ]
    },
    {
      "cell_type": "markdown",
      "source": [
        "AND GATE"
      ],
      "metadata": {
        "id": "Eveqsz_kmoaE"
      }
    },
    {
      "cell_type": "code",
      "source": [
        "and_model = NeuralNet(2)"
      ],
      "metadata": {
        "id": "MbM3YEYqmp8j"
      },
      "execution_count": null,
      "outputs": []
    },
    {
      "cell_type": "code",
      "source": [
        "X = [\n",
        "     [-1, -1],\n",
        "     [-1, 1],\n",
        "     [1, -1],\n",
        "     [1, 1]\n",
        "]\n",
        "y = [-1, -1, -1, 1]"
      ],
      "metadata": {
        "id": "Odd5-KIxmrqq"
      },
      "execution_count": null,
      "outputs": []
    },
    {
      "cell_type": "code",
      "source": [
        "and_model.fit(X, y)"
      ],
      "metadata": {
        "id": "MTE9oCgXmshM"
      },
      "execution_count": null,
      "outputs": []
    },
    {
      "cell_type": "code",
      "source": [
        "and_model.w\n",
        "and_model.b"
      ],
      "metadata": {
        "colab": {
          "base_uri": "https://localhost:8080/"
        },
        "id": "0SXEG-IUmtS1",
        "outputId": "e228fc79-9f7d-42af-d005-58d487bab850"
      },
      "execution_count": null,
      "outputs": [
        {
          "output_type": "execute_result",
          "data": {
            "text/plain": [
              "-2"
            ]
          },
          "metadata": {},
          "execution_count": 39
        }
      ]
    },
    {
      "cell_type": "code",
      "source": [
        "and_model.predict(X)"
      ],
      "metadata": {
        "colab": {
          "base_uri": "https://localhost:8080/"
        },
        "id": "ei1IfFh7muJj",
        "outputId": "24f041a0-17e4-4aca-8b1e-c43239488a77"
      },
      "execution_count": null,
      "outputs": [
        {
          "output_type": "execute_result",
          "data": {
            "text/plain": [
              "array([-6., -2., -2.,  2.])"
            ]
          },
          "metadata": {},
          "execution_count": 40
        }
      ]
    },
    {
      "cell_type": "markdown",
      "source": [
        "NOT GATE"
      ],
      "metadata": {
        "id": "t7TksfHYmvfU"
      }
    },
    {
      "cell_type": "code",
      "source": [
        "not_model = NeuralNet(1)"
      ],
      "metadata": {
        "id": "GWYahAtqmwZx"
      },
      "execution_count": null,
      "outputs": []
    },
    {
      "cell_type": "code",
      "source": [
        "X = [\n",
        "     [-1],\n",
        "     [1]\n",
        "]\n",
        "y = [1, -1]"
      ],
      "metadata": {
        "id": "eaZmHFGYmxSo"
      },
      "execution_count": null,
      "outputs": []
    },
    {
      "cell_type": "code",
      "source": [
        "not_model.fit(X, y)"
      ],
      "metadata": {
        "id": "VJUqBayXmyO5"
      },
      "execution_count": null,
      "outputs": []
    },
    {
      "cell_type": "code",
      "source": [
        "not_model.w, not_model.b"
      ],
      "metadata": {
        "colab": {
          "base_uri": "https://localhost:8080/"
        },
        "id": "R8UCi4iQmy8s",
        "outputId": "4a18c62a-667e-4593-9f22-6c5e3bfa81ae"
      },
      "execution_count": null,
      "outputs": [
        {
          "output_type": "execute_result",
          "data": {
            "text/plain": [
              "(array([-2.]), 0)"
            ]
          },
          "metadata": {},
          "execution_count": 44
        }
      ]
    },
    {
      "cell_type": "code",
      "source": [
        "not_model.predict(X)"
      ],
      "metadata": {
        "colab": {
          "base_uri": "https://localhost:8080/"
        },
        "id": "bi66KFE6mztn",
        "outputId": "30c2c55a-8a09-4fbe-baac-01c986c3fee3"
      },
      "execution_count": null,
      "outputs": [
        {
          "output_type": "execute_result",
          "data": {
            "text/plain": [
              "array([ 2., -2.])"
            ]
          },
          "metadata": {},
          "execution_count": 45
        }
      ]
    },
    {
      "cell_type": "markdown",
      "source": [
        "NOR GATE"
      ],
      "metadata": {
        "id": "bH0xWNH8m1QO"
      }
    },
    {
      "cell_type": "code",
      "source": [
        "nor_model = NeuralNet(2)"
      ],
      "metadata": {
        "id": "fapUOoK2m2M1"
      },
      "execution_count": null,
      "outputs": []
    },
    {
      "cell_type": "code",
      "source": [
        "X = [\n",
        "     [-1, -1],\n",
        "     [-1, 1],\n",
        "     [1, -1],\n",
        "     [1, 1]\n",
        "]\n",
        "y = [1, -1, -1, -1]"
      ],
      "metadata": {
        "id": "MVU79pnhm32-"
      },
      "execution_count": null,
      "outputs": []
    },
    {
      "cell_type": "code",
      "source": [
        "nor_model.fit(X, y)"
      ],
      "metadata": {
        "id": "H29w0E0Qm4qW"
      },
      "execution_count": null,
      "outputs": []
    },
    {
      "cell_type": "code",
      "source": [
        "nor_model.w, nor_model.b"
      ],
      "metadata": {
        "colab": {
          "base_uri": "https://localhost:8080/"
        },
        "id": "Ad9prO_Vm5Te",
        "outputId": "128aee30-b5a8-42c3-eca3-cd1b3e1b1c87"
      },
      "execution_count": null,
      "outputs": [
        {
          "output_type": "execute_result",
          "data": {
            "text/plain": [
              "(array([-2., -2.]), -2)"
            ]
          },
          "metadata": {},
          "execution_count": 49
        }
      ]
    },
    {
      "cell_type": "code",
      "source": [
        "nor_model.predict(X)"
      ],
      "metadata": {
        "colab": {
          "base_uri": "https://localhost:8080/"
        },
        "id": "ilZKLQxRm6Cb",
        "outputId": "e70bf4ec-cbf5-4bca-a79d-a0a6a1f45d4b"
      },
      "execution_count": null,
      "outputs": [
        {
          "output_type": "execute_result",
          "data": {
            "text/plain": [
              "array([ 2., -2., -2., -6.])"
            ]
          },
          "metadata": {},
          "execution_count": 50
        }
      ]
    },
    {
      "cell_type": "markdown",
      "source": [
        "NAND GATE"
      ],
      "metadata": {
        "id": "S_dwju09m63n"
      }
    },
    {
      "cell_type": "code",
      "source": [
        "nand_model = NeuralNet(2)"
      ],
      "metadata": {
        "id": "BpiuhW_Wm7wZ"
      },
      "execution_count": null,
      "outputs": []
    },
    {
      "cell_type": "code",
      "source": [
        "X = [\n",
        "     [-1, -1],\n",
        "     [-1, 1],\n",
        "     [1, -1],\n",
        "     [1, 1]\n",
        "]\n",
        "y = [1, 1, 1, -1]"
      ],
      "metadata": {
        "id": "2XzgisF1m8kr"
      },
      "execution_count": null,
      "outputs": []
    },
    {
      "cell_type": "code",
      "source": [
        "nand_model.fit(X, y)"
      ],
      "metadata": {
        "id": "9IsA9cz6m9bF"
      },
      "execution_count": null,
      "outputs": []
    },
    {
      "cell_type": "code",
      "source": [
        "nand_model.predict(X)"
      ],
      "metadata": {
        "colab": {
          "base_uri": "https://localhost:8080/"
        },
        "id": "sRikOR-om-ja",
        "outputId": "499bc492-bd04-451c-a00b-6af56e13b9e1"
      },
      "execution_count": null,
      "outputs": [
        {
          "output_type": "execute_result",
          "data": {
            "text/plain": [
              "array([ 6.,  2.,  2., -2.])"
            ]
          },
          "metadata": {},
          "execution_count": 54
        }
      ]
    }
  ]
}