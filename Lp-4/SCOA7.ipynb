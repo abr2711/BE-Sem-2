{
  "nbformat": 4,
  "nbformat_minor": 0,
  "metadata": {
    "colab": {
      "name": "SCOA7.ipynb",
      "provenance": []
    },
    "kernelspec": {
      "name": "python3",
      "display_name": "Python 3"
    },
    "language_info": {
      "name": "python"
    }
  },
  "cells": [
    {
      "cell_type": "code",
      "source": [
        "import numpy as np"
      ],
      "metadata": {
        "id": "hgEr1znQo_e1"
      },
      "execution_count": null,
      "outputs": []
    },
    {
      "cell_type": "code",
      "execution_count": null,
      "metadata": {
        "id": "ga-hLX8FooSE"
      },
      "outputs": [],
      "source": [
        "class NeuralNetwork:\n",
        "  def __init__(self, input_nodes, hidden_nodes):\n",
        "    self.layers = [input_nodes, hidden_nodes, 1]\n",
        "    self.__init_weights()\n",
        "\n",
        "  def __init_weights(self):\n",
        "    self.W = np.array([None for _ in range(len(self.layers) - 1)])\n",
        "    self.b = np.array([None for _ in range(len(self.layers) - 1)])\n",
        "    for i in range(len(self.layers) - 1):\n",
        "      self.W[i] = np.ones((self.layers[i+1], self.layers[i]))\n",
        "      self.b[i] = np.zeros((self.layers[i+1]))\n",
        "\n",
        "  def __train(self, X, y):\n",
        "    a = np.array([None for _ in range(len(self.layers) - 1)])\n",
        "    a[0] = X.copy()\n",
        "    a[1] = np.dot(self.W[0], a[0]) + self.b[0]\n",
        "    \n",
        "    self.W[1] -= -a[1]\n",
        "    self.b[1] -= -1\n",
        "    for i in range(len(a[0])):\n",
        "      self.W[0][:, i] -= -np.sum(self.W[1] * a[0][i], axis = 0)\n",
        "    self.b[0] -= -1\n",
        "\n",
        "  def fit(self, X, y):\n",
        "    for i in range(len(X)):\n",
        "      self.__train(X[i], y[i])"
      ]
    },
    {
      "cell_type": "code",
      "source": [
        "model = NeuralNetwork(2, 2)"
      ],
      "metadata": {
        "id": "QZYV0ElroyO5"
      },
      "execution_count": null,
      "outputs": []
    },
    {
      "cell_type": "code",
      "source": [
        "model.fit([\n",
        "           np.array([1, 0])\n",
        "], [1])"
      ],
      "metadata": {
        "id": "ZRq2PmiQo0hk"
      },
      "execution_count": null,
      "outputs": []
    },
    {
      "cell_type": "code",
      "source": [
        "print(f'Value of W11: {model.W[0][0,0]}')"
      ],
      "metadata": {
        "colab": {
          "base_uri": "https://localhost:8080/"
        },
        "id": "HBseDjYro3UA",
        "outputId": "ea420277-96de-4eb1-ed12-ff6f481933f6"
      },
      "execution_count": null,
      "outputs": [
        {
          "output_type": "stream",
          "name": "stdout",
          "text": [
            "Value of W11: 3.0\n"
          ]
        }
      ]
    }
  ]
}