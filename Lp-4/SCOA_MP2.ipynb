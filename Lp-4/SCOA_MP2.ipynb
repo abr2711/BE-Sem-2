{
  "nbformat": 4,
  "nbformat_minor": 0,
  "metadata": {
    "colab": {
      "name": "SCOA_MP2.ipynb",
      "provenance": []
    },
    "kernelspec": {
      "name": "python3",
      "display_name": "Python 3"
    },
    "language_info": {
      "name": "python"
    }
  },
  "cells": [
    {
      "cell_type": "code",
      "execution_count": 1,
      "metadata": {
        "colab": {
          "base_uri": "https://localhost:8080/",
          "height": 35
        },
        "id": "S6y17DwGq1G8",
        "outputId": "a94db728-579c-4679-e7da-aeb737711ee6"
      },
      "outputs": [
        {
          "output_type": "execute_result",
          "data": {
            "text/plain": [
              "'\\nGET INPUT AS INTS\\nFUZZIFY INPUTS, GET MF VALUES\\nCHECK RULE BASE AND GENERATE OUTPUTS\\nDEFUZZIFY OUTPUT\\n'"
            ],
            "application/vnd.google.colaboratory.intrinsic+json": {
              "type": "string"
            }
          },
          "metadata": {},
          "execution_count": 1
        }
      ],
      "source": [
        "\"\"\"\n",
        "GET INPUT AS INTS\n",
        "FUZZIFY INPUTS, GET MF VALUES\n",
        "CHECK RULE BASE AND GENERATE OUTPUTS\n",
        "DEFUZZIFY OUTPUT\n",
        "\"\"\""
      ]
    },
    {
      "cell_type": "code",
      "source": [
        "class CruiseController:\n",
        "  def __init__(self):\n",
        "    self.mapping = self.__get_mappings()\n",
        "    self.rule_base = self.__get_rules()\n",
        "    self.speed_mf = self.__get_speed_mf()\n",
        "    self.acc_mf = self.__get_acc_mf()\n",
        "    self.throttle_vals = self.__get_throttle_vals()\n",
        "    self.throttle_base = self.throttle_vals['PL'] - self.throttle_vals['ZE']\n",
        "\n",
        "  def __get_mappings(self):\n",
        "    return {\n",
        "        'NL': 0, # Negative Large\n",
        "        'NM': 1, # Negative Medium\n",
        "        'ZE': 2, # Zero\n",
        "        'PM': 3, # Positive Medium\n",
        "        'PL': 4  # Positive Large\n",
        "    }\n",
        "\n",
        "  def __get_rules(self):\n",
        "    return [\n",
        "            ['PL', 'PL', 'PL', 'PM', 'ZE'],\n",
        "            ['PL', 'PL', 'PM', 'ZE', 'NM'],\n",
        "            ['PL', 'PM', 'ZE', 'NM', 'NL'],\n",
        "            ['PM', 'ZE', 'NM', 'NL', 'NL'],\n",
        "            ['ZE', 'NM', 'NL', 'NL', 'NL'],\n",
        "    ]\n",
        "\n",
        "  def __get_speed_mf(self):\n",
        "    return {\n",
        "        'NL': lambda x : 1 if x < -100 else (0 if x > -50 else -0.02*x - 1),\n",
        "        'NM': lambda x : 0 if x < -100 or x > 0 else (0.02*x + 2 if x < -50 else -0.02*x),\n",
        "        'ZE': lambda x : 0 if abs(x) > 50 else (0.02*x + 1 if x < 0 else -0.02*x + 1),\n",
        "        'PM': lambda x : 0 if x > 100 or x < 0 else (-0.02*x + 2 if x > 50 else 0.02*x),\n",
        "        'PL': lambda x : 1 if x > 100 else (0 if x < 50 else 0.02*x - 1)\n",
        "    }\n",
        "\n",
        "  def __get_acc_mf(self):\n",
        "    return {\n",
        "        'NL': lambda x : 1 if x < -40 else (0 if x > -20 else -0.05*x - 1),\n",
        "        'NM': lambda x : 0 if x < -40 or x > 0 else (0.05*x + 2 if x < -20 else -0.05*x),\n",
        "        'ZE': lambda x : 0 if abs(x) > 20 else (0.05*x + 1 if x < 0 else -0.05*x + 1),\n",
        "        'PM': lambda x : 0 if x > 40 or x < 0 else (-0.05*x + 2 if x > 20 else 0.05*x),\n",
        "        'PL': lambda x : 1 if x > 40 else (0 if x < 20 else 0.05*x - 1)\n",
        "    }\n",
        "\n",
        "  def __get_throttle_vals(self):\n",
        "    return {\n",
        "        'NL': -20,\n",
        "        'NM': -10,\n",
        "        'ZE':   0,\n",
        "        'PM':  10,\n",
        "        'PL':  20\n",
        "    }\n",
        "\n",
        "  def __crisp_to_fuzzy(self, val, mf):\n",
        "    fuzzy_values = []\n",
        "    for x, myu_x in mf.items():\n",
        "      if myu_x(val) > 0: fuzzy_values.append((x, myu_x(val)))\n",
        "    return fuzzy_values\n",
        "\n",
        "  def __fuzzify(self, speed_diff, acc):\n",
        "    return self.__crisp_to_fuzzy(speed_diff, self.speed_mf), self.__crisp_to_fuzzy(acc, self.acc_mf)\n",
        "\n",
        "  def __apply_rule_base(self, speed, acc):\n",
        "    throttle_fuzzy = []\n",
        "    for s in speed:\n",
        "      for a in acc:\n",
        "        i, j = self.mapping[s[0]], self.mapping[a[0]]\n",
        "        throttle_fuzzy.append((self.rule_base[i][j], min(s[1], a[1])))\n",
        "    return throttle_fuzzy\n",
        "\n",
        "  def __get_throttle_area(self, x):\n",
        "    y = self.throttle_base * x\n",
        "    return 0.5 * (self.throttle_base - (1 - x) * y)\n",
        "\n",
        "  def __defuzzify(self, throttle_fuzzy):\n",
        "    areas = []\n",
        "    for tf in throttle_fuzzy:\n",
        "      areas.append((self.throttle_vals[tf[0]], self.__get_throttle_area(tf[1])))\n",
        "    throttle = 0\n",
        "    total_area = 0\n",
        "    for a in areas:\n",
        "      throttle += a[0] * a[1]\n",
        "      total_area += a[1]\n",
        "    return throttle / total_area\n",
        "\n",
        "  def get_throttle(self, speed_diff, acc):\n",
        "    speed_fuzzy, acc_fuzzy = self.__fuzzify(speed_diff, acc)\n",
        "    throttle_fuzzy = self.__apply_rule_base(speed_fuzzy, acc_fuzzy)\n",
        "    throttle = self.__defuzzify(throttle_fuzzy)\n",
        "    return throttle"
      ],
      "metadata": {
        "id": "1wij0fWWq7g8"
      },
      "execution_count": 2,
      "outputs": []
    },
    {
      "cell_type": "code",
      "source": [
        "controller = CruiseController()"
      ],
      "metadata": {
        "id": "l2bLANoMq-eu"
      },
      "execution_count": 3,
      "outputs": []
    },
    {
      "cell_type": "code",
      "source": [
        "throttle = controller.get_throttle(speed_diff = -75, acc = 35)"
      ],
      "metadata": {
        "id": "cID-QDAaq_Y3"
      },
      "execution_count": 4,
      "outputs": []
    },
    {
      "cell_type": "code",
      "source": [
        "print(f'Throttle: {throttle}')"
      ],
      "metadata": {
        "colab": {
          "base_uri": "https://localhost:8080/"
        },
        "id": "41lK7xuXrAD4",
        "outputId": "1ad5cb4b-49f6-4f9a-c276-60c8c6171508"
      },
      "execution_count": 5,
      "outputs": [
        {
          "output_type": "stream",
          "name": "stdout",
          "text": [
            "Throttle: 0.2\n"
          ]
        }
      ]
    }
  ]
}