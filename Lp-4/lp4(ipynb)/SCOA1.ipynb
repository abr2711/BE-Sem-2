{
  "nbformat": 4,
  "nbformat_minor": 0,
  "metadata": {
    "colab": {
      "name": "SCOA1.ipynb",
      "provenance": []
    },
    "kernelspec": {
      "name": "python3",
      "display_name": "Python 3"
    },
    "language_info": {
      "name": "python"
    }
  },
  "cells": [
    {
      "cell_type": "markdown",
      "source": [
        "CREATE"
      ],
      "metadata": {
        "id": "5rGlH3tjjy-6"
      }
    },
    {
      "cell_type": "code",
      "source": [
        "class FuzzySet:\n",
        "  def __init__(self):\n",
        "    self.__s = set()\n",
        "    self.__mem = {}\n",
        "\n",
        "  def __str__(self):\n",
        "    return f'{[(x, self.__mem[x]) for x in self.__s]}'\n",
        "\n",
        "  def __len__(self):\n",
        "    return len(self.__s)\n",
        "\n",
        "  def add(self, val, mem_val):\n",
        "    assert mem_val >= 0 and mem_val <= 1, 'Membership value must be in the range [0, 1].'\n",
        "    if val not in self.__s:\n",
        "      self.__s.add(val)\n",
        "      self.__mem[val] = mem_val\n",
        "\n",
        "  def union(self, other):\n",
        "    res = FuzzySet()\n",
        "    for x in self.__s:\n",
        "      if x not in other.__s: res.add(x, self.__mem[x])\n",
        "      else: res.add(x, max(self.__mem[x], other.__mem[x]))\n",
        "    for x in other.__s:\n",
        "      if x not in self.__s: res.add(x, other.__mem[x])\n",
        "    return res\n",
        "\n",
        "  def intersect(self, other):\n",
        "    res = FuzzySet()\n",
        "    for x in self.__s:\n",
        "      if x not in other.__s: res.add(x, self.__mem[x])\n",
        "      else: res.add(x, min(self.__mem[x], other.__mem[x]))\n",
        "    for x in other.__s:\n",
        "      if x not in self.__s: res.add(x, other.__mem[x])\n",
        "    return res\n",
        "\n",
        "  def complement(self):\n",
        "    res = FuzzySet()\n",
        "    for x in self.__s:\n",
        "      if self.__mem[x] < 1: res.add(x, round(1 - self.__mem[x], 1))\n",
        "    return res\n",
        "\n",
        "  def minus(self, other):\n",
        "    temp = other.complement()\n",
        "    return self.intersect(temp)\n",
        "\n",
        "  def cartesian_product(self, other):\n",
        "    res = [[None for _ in range(len(other))] for _ in range(len(self))]\n",
        "    for i, x in enumerate(self.__s):\n",
        "      for j, y in enumerate(other.__s):\n",
        "        res[i][j] = (x, y, min(self.__mem[x], other.__mem[y]))\n",
        "    return res\n",
        "\n",
        "  @staticmethod\n",
        "  def compose(a, b):\n",
        "    assert len(a[0]) == len(b), 'Dimension mismatch.'\n",
        "    m, r, n = len(a), len(a[0]), len(b[0])\n",
        "    for i in range(r):\n",
        "      assert a[0][i][1] == b[i][0][0], 'Non-compatible relations.'\n",
        "    res = [[None for _ in range(m)] for _ in range(n)]\n",
        "    for i in range(m):\n",
        "      for j in range(n):\n",
        "        val = 0\n",
        "        for k in range(r):\n",
        "          val = max(val, min(a[i][k][2], b[k][j][2]))\n",
        "        res[i][j] = (a[i][0][0], b[0][j][1], val)\n",
        "    return res"
      ],
      "metadata": {
        "id": "BwCBwM4Qjxv1"
      },
      "execution_count": null,
      "outputs": []
    },
    {
      "cell_type": "code",
      "source": [
        "fs1 = FuzzySet()\n",
        "fs2 = FuzzySet()\n",
        "fs3 = FuzzySet()\n",
        "\n",
        "fs1.add('x1',0.7)\n",
        "fs1.add('x2',0.2)\n",
        "\n",
        "fs2.add('y1',0.9)\n",
        "fs2.add('y2',0.5)\n",
        "\n",
        "fs3.add('z1',0.8)\n",
        "fs3.add('z2',0.6)"
      ],
      "metadata": {
        "id": "DZlGLqNnkMuD"
      },
      "execution_count": null,
      "outputs": []
    },
    {
      "cell_type": "markdown",
      "source": [
        "UNION\n"
      ],
      "metadata": {
        "id": "Xa4KesrgjlRf"
      }
    },
    {
      "cell_type": "code",
      "source": [
        "fs_1_or_2 = fs1.union(fs2)\n",
        "print(fs_1_or_2)"
      ],
      "metadata": {
        "colab": {
          "base_uri": "https://localhost:8080/"
        },
        "id": "W9bGxYvBjmtK",
        "outputId": "7c53c03d-b848-4d20-974e-7fa71091948f"
      },
      "execution_count": null,
      "outputs": [
        {
          "output_type": "stream",
          "name": "stdout",
          "text": [
            "[('y2', 0.5), ('y1', 0.9), ('x2', 0.2), ('x1', 0.7)]\n"
          ]
        }
      ]
    },
    {
      "cell_type": "code",
      "source": [
        "fs_2_or_3 = fs2.union(fs3)\n",
        "print(fs_2_or_3)"
      ],
      "metadata": {
        "colab": {
          "base_uri": "https://localhost:8080/"
        },
        "id": "ljV5aCRzkTlI",
        "outputId": "0602cd7c-a46e-4a3e-b84f-51f142831107"
      },
      "execution_count": null,
      "outputs": [
        {
          "output_type": "stream",
          "name": "stdout",
          "text": [
            "[('z1', 0.8), ('y2', 0.5), ('z2', 0.6), ('y1', 0.9)]\n"
          ]
        }
      ]
    },
    {
      "cell_type": "markdown",
      "source": [
        "INTERSECTION"
      ],
      "metadata": {
        "id": "EP8U47hikaK7"
      }
    },
    {
      "cell_type": "code",
      "source": [
        "fs_1_and_2 = fs1.intersect(fs2)\n",
        "print(fs_1_and_2)"
      ],
      "metadata": {
        "colab": {
          "base_uri": "https://localhost:8080/"
        },
        "id": "WZ2A1J44kch9",
        "outputId": "2de7cbd6-c271-4448-b937-8aeaba5e4237"
      },
      "execution_count": null,
      "outputs": [
        {
          "output_type": "stream",
          "name": "stdout",
          "text": [
            "[('y2', 0.5), ('y1', 0.9), ('x2', 0.2), ('x1', 0.7)]\n"
          ]
        }
      ]
    },
    {
      "cell_type": "code",
      "source": [
        "fs_2_and_3 = fs2.intersect(fs3)\n",
        "print(fs_2_and_3)"
      ],
      "metadata": {
        "colab": {
          "base_uri": "https://localhost:8080/"
        },
        "id": "Lkya318Wkdz5",
        "outputId": "c718354f-b701-4b27-c8be-2da515303ea5"
      },
      "execution_count": null,
      "outputs": [
        {
          "output_type": "stream",
          "name": "stdout",
          "text": [
            "[('z1', 0.8), ('y2', 0.5), ('z2', 0.6), ('y1', 0.9)]\n"
          ]
        }
      ]
    },
    {
      "cell_type": "markdown",
      "source": [
        "COMPLEMENT"
      ],
      "metadata": {
        "id": "M2l024TgkfPN"
      }
    },
    {
      "cell_type": "code",
      "source": [
        "fs_not_1 = fs1.complement()\n",
        "print(fs_not_1)"
      ],
      "metadata": {
        "colab": {
          "base_uri": "https://localhost:8080/"
        },
        "id": "SmCKIn80krtF",
        "outputId": "b9a17d9c-e356-45ed-f40a-5578d354f84b"
      },
      "execution_count": null,
      "outputs": [
        {
          "output_type": "stream",
          "name": "stdout",
          "text": [
            "[('x2', 0.8), ('x1', 0.3)]\n"
          ]
        }
      ]
    },
    {
      "cell_type": "code",
      "source": [
        "fs_not_2 = fs2.complement()\n",
        "print(fs_not_2)"
      ],
      "metadata": {
        "colab": {
          "base_uri": "https://localhost:8080/"
        },
        "id": "oj-ld-4jktad",
        "outputId": "8e1003c5-5740-406b-ab24-8717cf9215b2"
      },
      "execution_count": null,
      "outputs": [
        {
          "output_type": "stream",
          "name": "stdout",
          "text": [
            "[('y2', 0.5), ('y1', 0.1)]\n"
          ]
        }
      ]
    },
    {
      "cell_type": "code",
      "source": [
        "fs_not_3 = fs3.complement()\n",
        "print(fs_not_3)"
      ],
      "metadata": {
        "colab": {
          "base_uri": "https://localhost:8080/"
        },
        "id": "mic-jWpqkuVg",
        "outputId": "f2f08aa1-e844-4342-9d54-8b573f55325a"
      },
      "execution_count": null,
      "outputs": [
        {
          "output_type": "stream",
          "name": "stdout",
          "text": [
            "[('z1', 0.2), ('z2', 0.4)]\n"
          ]
        }
      ]
    },
    {
      "cell_type": "markdown",
      "source": [
        "DIFFERENCE"
      ],
      "metadata": {
        "id": "YNLzl5hdkvp4"
      }
    },
    {
      "cell_type": "code",
      "source": [
        "fs_1_minus_2 = fs1.minus(fs2)\n",
        "print(fs_1_minus_2)"
      ],
      "metadata": {
        "colab": {
          "base_uri": "https://localhost:8080/"
        },
        "id": "xKGsC-FBkw7Z",
        "outputId": "d85604ee-4221-4cb2-b7cb-7c4a1e3a96b5"
      },
      "execution_count": null,
      "outputs": [
        {
          "output_type": "stream",
          "name": "stdout",
          "text": [
            "[('y2', 0.5), ('y1', 0.1), ('x2', 0.2), ('x1', 0.7)]\n"
          ]
        }
      ]
    },
    {
      "cell_type": "code",
      "source": [
        "fs_2_minus_3 = fs2.minus(fs3)\n",
        "print(fs_2_minus_3)"
      ],
      "metadata": {
        "colab": {
          "base_uri": "https://localhost:8080/"
        },
        "id": "IFr5ZqOQkyP7",
        "outputId": "b54f76b7-77c4-4eee-980a-bbe83e4cd171"
      },
      "execution_count": null,
      "outputs": [
        {
          "output_type": "stream",
          "name": "stdout",
          "text": [
            "[('z1', 0.2), ('y2', 0.5), ('z2', 0.4), ('y1', 0.9)]\n"
          ]
        }
      ]
    },
    {
      "cell_type": "markdown",
      "source": [
        "CARTESIAN PRODUCT"
      ],
      "metadata": {
        "id": "Rrg9wMtdkzpa"
      }
    },
    {
      "cell_type": "code",
      "source": [
        "a = fs1.cartesian_product(fs2)\n",
        "a"
      ],
      "metadata": {
        "id": "c_cvrGqMk0u8",
        "outputId": "5a7bb4bb-4b11-48a4-f69f-92cd86978e7e",
        "colab": {
          "base_uri": "https://localhost:8080/"
        }
      },
      "execution_count": null,
      "outputs": [
        {
          "output_type": "execute_result",
          "data": {
            "text/plain": [
              "[[('x2', 'y2', 0.2), ('x2', 'y1', 0.2)],\n",
              " [('x1', 'y2', 0.5), ('x1', 'y1', 0.7)]]"
            ]
          },
          "metadata": {},
          "execution_count": 20
        }
      ]
    },
    {
      "cell_type": "code",
      "source": [
        "b = fs2.cartesian_product(fs3)\n",
        "b"
      ],
      "metadata": {
        "id": "YF-0lz9Sk2Dk",
        "outputId": "260f96a0-8793-4aed-b4c0-856e87d5564f",
        "colab": {
          "base_uri": "https://localhost:8080/"
        }
      },
      "execution_count": null,
      "outputs": [
        {
          "output_type": "execute_result",
          "data": {
            "text/plain": [
              "[[('y2', 'z1', 0.5), ('y2', 'z2', 0.5)],\n",
              " [('y1', 'z1', 0.8), ('y1', 'z2', 0.6)]]"
            ]
          },
          "metadata": {},
          "execution_count": 21
        }
      ]
    },
    {
      "cell_type": "markdown",
      "source": [
        "COMPOSITION"
      ],
      "metadata": {
        "id": "hj75oAbLk373"
      }
    },
    {
      "cell_type": "code",
      "source": [
        "res = FuzzySet.compose(a, b)\n",
        "res"
      ],
      "metadata": {
        "id": "sH-_Xbjek5Hv",
        "outputId": "38e69b0f-3ec9-4416-9983-7095cd217d10",
        "colab": {
          "base_uri": "https://localhost:8080/"
        }
      },
      "execution_count": null,
      "outputs": [
        {
          "output_type": "execute_result",
          "data": {
            "text/plain": [
              "[[('x2', 'z1', 0.2), ('x2', 'z2', 0.2)],\n",
              " [('x1', 'z1', 0.7), ('x1', 'z2', 0.6)]]"
            ]
          },
          "metadata": {},
          "execution_count": 22
        }
      ]
    }
  ]
}