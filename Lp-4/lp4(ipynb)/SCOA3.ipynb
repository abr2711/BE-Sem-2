{
  "nbformat": 4,
  "nbformat_minor": 0,
  "metadata": {
    "colab": {
      "name": "SCOA3.ipynb",
      "provenance": []
    },
    "kernelspec": {
      "name": "python3",
      "display_name": "Python 3"
    },
    "language_info": {
      "name": "python"
    }
  },
  "cells": [
    {
      "cell_type": "code",
      "execution_count": null,
      "metadata": {
        "id": "EtWW-567l7kr"
      },
      "outputs": [],
      "source": [
        "import numpy as np\n",
        "np.random.seed(42)"
      ]
    },
    {
      "cell_type": "code",
      "source": [
        "def dec_to_bin(x, n):\n",
        "  b = bin(x).replace('0b', '')\n",
        "  return '0' * max((n - len(b)), 0) + b"
      ],
      "metadata": {
        "id": "7PPFZ8xNmF8U"
      },
      "execution_count": null,
      "outputs": []
    },
    {
      "cell_type": "code",
      "source": [
        "class BitPopulation:\n",
        "  def __init__(self, length, initial_size, c1, c2, w1, w2):\n",
        "    self.length = length\n",
        "    self.size = initial_size\n",
        "    self.__init_population()\n",
        "    self.c1 = c1\n",
        "    self.c2 = c2\n",
        "    self.w1 = w1\n",
        "    self.w2 = w2\n",
        "\n",
        "  def __init_population(self):\n",
        "    mean = 2 ** (self.length - 2)\n",
        "    std = mean / 2\n",
        "    self.min_val = 0\n",
        "    self.max_val = 2 ** self.length - 1\n",
        "    population = np.random.normal(mean, std, self.size)\n",
        "    self.__population = [int(max(self.min_val, min(self.max_val, x))) for x in population]\n",
        "    self.__velocity = np.random.normal(10, 1, self.size)\n",
        "    self.__pbest = self.__population.copy()\n",
        "    self.__gbest = np.max(self.__pbest)\n",
        "\n",
        "  def get_popultation(self):\n",
        "    # return self.__population.copy()\n",
        "    return [dec_to_bin(x, self.length) for x in self.__population]\n",
        "\n",
        "  def display_population(self):\n",
        "    for x in self.__population:\n",
        "      print(f'{dec_to_bin(x, self.length)}: {x}')\n",
        "    print()\n",
        "\n",
        "  def __fitness(self, x):\n",
        "    return x * x\n",
        "\n",
        "  def __update_pbest(self):\n",
        "    for i in range(self.size):\n",
        "      if self.__fitness(self.__population[i]) > self.__fitness(self.__pbest[i]):\n",
        "        self.__pbest[i] = self.__population[i]\n",
        "\n",
        "  def __update_position(self, w):\n",
        "    r1 = np.random.rand()\n",
        "    r2 = np.random.rand()\n",
        "    for i in range(self.size):\n",
        "      self.__velocity[i] = self.__velocity[i] * w + self.c1 * r1 * (self.__pbest[i] - self.__population[i]) + self.c2 * r2 * (self.__gbest - self.__population[i])\n",
        "      x = self.__population[i] + self.__velocity[i]\n",
        "      self.__population[i] = int(max(self.min_val, min(self.max_val, x)))\n",
        "\n",
        "  def __perform_iteration(self, i):\n",
        "    w = self.alpha * i + self.w1\n",
        "    self.__update_pbest()\n",
        "    self.__gbest = np.max(self.__pbest)\n",
        "    self.__update_position(w)\n",
        "\n",
        "  def fit(self, iterations):\n",
        "    print('INITIAL POPULATION:')\n",
        "    self.display_population()\n",
        "    self.alpha = (self.w2 - self.w1) / (iterations - 1)\n",
        "    for i in range(iterations):\n",
        "      self.__perform_iteration(i)\n",
        "      print(f'ITERATION {i+1}: ')\n",
        "      self.display_population()"
      ],
      "metadata": {
        "id": "DABIuuVPmGpo"
      },
      "execution_count": null,
      "outputs": []
    },
    {
      "cell_type": "code",
      "source": [
        "population = BitPopulation(8, 8, 2, 2, 0.9, 0.4)"
      ],
      "metadata": {
        "id": "YOQbA16ImJ54"
      },
      "execution_count": null,
      "outputs": []
    },
    {
      "cell_type": "code",
      "source": [
        "population.fit(5)"
      ],
      "metadata": {
        "colab": {
          "base_uri": "https://localhost:8080/"
        },
        "id": "dBJkLJXXmKwy",
        "outputId": "d064e9e4-3fd2-47e1-9aa6-670b3dd01971"
      },
      "execution_count": null,
      "outputs": [
        {
          "output_type": "stream",
          "name": "stdout",
          "text": [
            "INITIAL POPULATION:\n",
            "01001111: 79\n",
            "00111011: 59\n",
            "01010100: 84\n",
            "01110000: 112\n",
            "00111000: 56\n",
            "00111000: 56\n",
            "01110010: 114\n",
            "01011000: 88\n",
            "\n",
            "ITERATION 1: \n",
            "01100001: 97\n",
            "01010011: 83\n",
            "01100100: 100\n",
            "01111001: 121\n",
            "01010001: 81\n",
            "01001111: 79\n",
            "01111001: 121\n",
            "01100111: 103\n",
            "\n",
            "ITERATION 2: \n",
            "10000000: 128\n",
            "10000010: 130\n",
            "10000000: 128\n",
            "10000000: 128\n",
            "10000001: 129\n",
            "01111111: 127\n",
            "01111110: 126\n",
            "10000000: 128\n",
            "\n",
            "ITERATION 3: \n",
            "10010111: 151\n",
            "10100000: 160\n",
            "10010101: 149\n",
            "10000111: 135\n",
            "10100010: 162\n",
            "10100011: 163\n",
            "10001000: 136\n",
            "10010011: 147\n",
            "\n",
            "ITERATION 4: \n",
            "10101111: 175\n",
            "10110011: 179\n",
            "10101110: 174\n",
            "10100111: 167\n",
            "10110100: 180\n",
            "10110110: 182\n",
            "10101001: 169\n",
            "10101101: 173\n",
            "\n",
            "ITERATION 5: \n",
            "10111001: 185\n",
            "10111010: 186\n",
            "10111001: 185\n",
            "10110101: 181\n",
            "10111011: 187\n",
            "10111101: 189\n",
            "10110111: 183\n",
            "10111000: 184\n",
            "\n"
          ]
        }
      ]
    }
  ]
}