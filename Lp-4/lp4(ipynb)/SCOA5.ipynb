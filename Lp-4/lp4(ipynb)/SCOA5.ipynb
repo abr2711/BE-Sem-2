{
  "nbformat": 4,
  "nbformat_minor": 0,
  "metadata": {
    "colab": {
      "name": "SCOA5.ipynb",
      "provenance": []
    },
    "kernelspec": {
      "name": "python3",
      "display_name": "Python 3"
    },
    "language_info": {
      "name": "python"
    }
  },
  "cells": [
    {
      "cell_type": "code",
      "execution_count": null,
      "metadata": {
        "id": "JbA9z_Q1niFC"
      },
      "outputs": [],
      "source": [
        "import numpy as np"
      ]
    },
    {
      "cell_type": "code",
      "source": [
        "class SLP:\n",
        "  def __init__(self, n):\n",
        "    self.w = np.zeros((n))\n",
        "    self.b = 0\n",
        "\n",
        "  def __activation(self, x):\n",
        "    return 1 if x >= 0 else 0\n",
        "\n",
        "  def __train(self, X, y, lr):\n",
        "    y_hat = self.__activation(np.dot(self.w, X) + self.b)\n",
        "    delta_w = lr * (y - y_hat) * X\n",
        "    self.w += delta_w\n",
        "    self.b += lr * (y - y_hat)\n",
        "\n",
        "  def fit(self, X, y, learning_rate, epochs = 5):\n",
        "    for _ in range(epochs):\n",
        "      for i in range(len(X)):\n",
        "        self.__train(X[i], y[i], learning_rate)\n",
        "\n",
        "  def predict(self, X):\n",
        "    preds = []\n",
        "    for x in X:\n",
        "      y_hat = self.__activation(np.dot(self.w, x) + self.b)\n",
        "      preds.append(y_hat)\n",
        "    return preds"
      ],
      "metadata": {
        "id": "g_q137kcnmMQ"
      },
      "execution_count": null,
      "outputs": []
    },
    {
      "cell_type": "markdown",
      "source": [
        "OR GATE"
      ],
      "metadata": {
        "id": "eZLNuBG_nqF8"
      }
    },
    {
      "cell_type": "code",
      "source": [
        "X = np.array([\n",
        "              [0, 0],\n",
        "              [0, 1],\n",
        "              [1, 0],\n",
        "              [1, 1]\n",
        "])\n",
        "y = np.array([0, 1, 1, 1])"
      ],
      "metadata": {
        "id": "LjIpfrQ2nrfS"
      },
      "execution_count": null,
      "outputs": []
    },
    {
      "cell_type": "code",
      "source": [
        "or_gate = SLP(2)"
      ],
      "metadata": {
        "id": "vEb86OyznsbR"
      },
      "execution_count": null,
      "outputs": []
    },
    {
      "cell_type": "code",
      "source": [
        "or_gate.fit(X, y, learning_rate = 0.5, epochs = 5)"
      ],
      "metadata": {
        "id": "iPengwOBntSW"
      },
      "execution_count": null,
      "outputs": []
    },
    {
      "cell_type": "code",
      "source": [
        "or_gate.predict(X)"
      ],
      "metadata": {
        "colab": {
          "base_uri": "https://localhost:8080/"
        },
        "id": "5OIML7dGnuhQ",
        "outputId": "490153a3-7381-4dff-a242-e203dadcf119"
      },
      "execution_count": null,
      "outputs": [
        {
          "output_type": "execute_result",
          "data": {
            "text/plain": [
              "[0, 1, 1, 1]"
            ]
          },
          "metadata": {},
          "execution_count": 6
        }
      ]
    },
    {
      "cell_type": "code",
      "source": [
        "print(f'Weights: {or_gate.w}, Bias: {or_gate.b}')"
      ],
      "metadata": {
        "colab": {
          "base_uri": "https://localhost:8080/"
        },
        "id": "Q_GxR4CLnvVC",
        "outputId": "349aaed6-4fbe-4103-cb8d-773054277e4a"
      },
      "execution_count": null,
      "outputs": [
        {
          "output_type": "stream",
          "name": "stdout",
          "text": [
            "Weights: [0.5 0.5], Bias: -0.5\n"
          ]
        }
      ]
    },
    {
      "cell_type": "markdown",
      "source": [
        "AND GATE"
      ],
      "metadata": {
        "id": "n1aY_QnWnwwk"
      }
    },
    {
      "cell_type": "code",
      "source": [
        "X = np.array([\n",
        "              [0, 0],\n",
        "              [0, 1],\n",
        "              [1, 0],\n",
        "              [1, 1]\n",
        "])\n",
        "y = np.array([0, 0, 0, 1])"
      ],
      "metadata": {
        "id": "kFrFI1TVnxy3"
      },
      "execution_count": null,
      "outputs": []
    },
    {
      "cell_type": "code",
      "source": [
        "and_gate = SLP(2)"
      ],
      "metadata": {
        "id": "6bPdlRTbnyuQ"
      },
      "execution_count": null,
      "outputs": []
    },
    {
      "cell_type": "code",
      "source": [
        "and_gate.fit(X, y, learning_rate = 0.5, epochs = 5)"
      ],
      "metadata": {
        "id": "Lb0lLIIVnzyu"
      },
      "execution_count": null,
      "outputs": []
    },
    {
      "cell_type": "code",
      "source": [
        "and_gate.predict(X)"
      ],
      "metadata": {
        "colab": {
          "base_uri": "https://localhost:8080/"
        },
        "id": "SBdKVEVWn0pY",
        "outputId": "d4b6e380-48d4-4548-936c-adc9c3883e9d"
      },
      "execution_count": null,
      "outputs": [
        {
          "output_type": "execute_result",
          "data": {
            "text/plain": [
              "[0, 0, 0, 1]"
            ]
          },
          "metadata": {},
          "execution_count": 11
        }
      ]
    },
    {
      "cell_type": "code",
      "source": [
        "print(f'Weights: {and_gate.w}, Bias: {and_gate.b}')"
      ],
      "metadata": {
        "colab": {
          "base_uri": "https://localhost:8080/"
        },
        "id": "O1M7z5E5n1gz",
        "outputId": "77ccd682-69c7-4a2f-c2aa-eaccbdd06eae"
      },
      "execution_count": null,
      "outputs": [
        {
          "output_type": "stream",
          "name": "stdout",
          "text": [
            "Weights: [1.  0.5], Bias: -1.5\n"
          ]
        }
      ]
    },
    {
      "cell_type": "markdown",
      "source": [
        "NOT GATE"
      ],
      "metadata": {
        "id": "UF2ozqGcn2c-"
      }
    },
    {
      "cell_type": "code",
      "source": [
        "X = np.array([\n",
        "              [0],\n",
        "              [1],\n",
        "])\n",
        "y = np.array([1, 0])"
      ],
      "metadata": {
        "id": "vZx3pb96n3YR"
      },
      "execution_count": null,
      "outputs": []
    },
    {
      "cell_type": "code",
      "source": [
        "not_gate = SLP(1)"
      ],
      "metadata": {
        "id": "akKsiAW0n4Ke"
      },
      "execution_count": null,
      "outputs": []
    },
    {
      "cell_type": "code",
      "source": [
        "not_gate.fit(X, y, learning_rate = 0.5, epochs = 5)"
      ],
      "metadata": {
        "id": "R6IBOFJLn49T"
      },
      "execution_count": null,
      "outputs": []
    },
    {
      "cell_type": "code",
      "source": [
        "not_gate.predict(X)"
      ],
      "metadata": {
        "colab": {
          "base_uri": "https://localhost:8080/"
        },
        "id": "2H8Du4qVn5zR",
        "outputId": "57c0d952-09d7-4593-90f3-0b8ee8796621"
      },
      "execution_count": null,
      "outputs": [
        {
          "output_type": "execute_result",
          "data": {
            "text/plain": [
              "[1, 0]"
            ]
          },
          "metadata": {},
          "execution_count": 16
        }
      ]
    },
    {
      "cell_type": "code",
      "source": [
        "print(f'Weights: {not_gate.w}, Bias: {not_gate.b}')"
      ],
      "metadata": {
        "colab": {
          "base_uri": "https://localhost:8080/"
        },
        "id": "K3j5h4nsn6pf",
        "outputId": "b3fe64ad-d52a-4bad-d21b-5d346b244892"
      },
      "execution_count": null,
      "outputs": [
        {
          "output_type": "stream",
          "name": "stdout",
          "text": [
            "Weights: [-0.5], Bias: 0.0\n"
          ]
        }
      ]
    }
  ]
}