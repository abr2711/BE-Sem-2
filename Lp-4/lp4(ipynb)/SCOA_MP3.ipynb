{
  "nbformat": 4,
  "nbformat_minor": 0,
  "metadata": {
    "colab": {
      "name": "SCOA_MP3.ipynb",
      "provenance": []
    },
    "kernelspec": {
      "name": "python3",
      "display_name": "Python 3"
    },
    "language_info": {
      "name": "python"
    }
  },
  "cells": [
    {
      "cell_type": "code",
      "execution_count": 1,
      "metadata": {
        "colab": {
          "base_uri": "https://localhost:8080/",
          "height": 35
        },
        "id": "bJavEZaNrYRD",
        "outputId": "42a69833-e109-4aaa-e390-458bb5fa7243"
      },
      "outputs": [
        {
          "output_type": "execute_result",
          "data": {
            "text/plain": [
              "'\\nGET INPUT AS INTS\\nFUZZIFY INPUTS, GET MF VALUES\\nCHECK RULE BASE AND GENERATE OUTPUTS\\nDEFUZZIFY OUTPUT\\n'"
            ],
            "application/vnd.google.colaboratory.intrinsic+json": {
              "type": "string"
            }
          },
          "metadata": {},
          "execution_count": 1
        }
      ],
      "source": [
        "\"\"\"\n",
        "GET INPUT AS INTS\n",
        "FUZZIFY INPUTS, GET MF VALUES\n",
        "CHECK RULE BASE AND GENERATE OUTPUTS\n",
        "DEFUZZIFY OUTPUT\n",
        "\"\"\""
      ]
    },
    {
      "cell_type": "code",
      "source": [
        "class ACController:\n",
        "  def __init__(self):\n",
        "    self.mapping = self.__get_mappings()\n",
        "    self.rule_base = self.__get_rules()\n",
        "    self.td_mf = self.__get_td_mf()\n",
        "    self.dial_vals = self.__get_dial_vals()\n",
        "    self.dial_base = self.dial_vals['VH'] - self.dial_vals['MH']\n",
        "\n",
        "  def __get_mappings(self):\n",
        "    return {\n",
        "        'VH': 0, # Very Hot\n",
        "        'HO': 1, # Hot\n",
        "        'MH': 2, # Mildly Hot\n",
        "        'BA': 3, # Balanced\n",
        "        'MC': 4, # Mildly Cold\n",
        "        'CO': 5, # Cold\n",
        "        'VC': 6  # Very Cold\n",
        "    }\n",
        "\n",
        "  def __get_rules(self):\n",
        "    return [ 'VC', 'CO', 'MC', 'BA', 'MH', 'HO', 'VH']\n",
        "\n",
        "  def __get_td_mf(self):\n",
        "    return {\n",
        "        'VH': lambda x : 1 if x < -15 else (0 if x > -10 else -0.2*x - 2),\n",
        "        'HO': lambda x : 0 if x < -15 or x > -5 else (0.2*x + 3 if x < -10 else -0.2*x - 1),\n",
        "        'MH': lambda x : 0 if x < -10 or x > 0 else (0.2*x + 2 if x < -5 else -0.2*x),\n",
        "        'BA': lambda x : 0 if abs(x) > 5 else (0.2*x + 1 if x < 0 else -0.2*x + 1),\n",
        "        'MC': lambda x : 0 if x < 0 or x > 10 else (-0.2*x + 2 if x > 5 else 0.2*x),\n",
        "        'CO': lambda x : 0 if x < 5 or x > 15 else (-0.2*x + 3 if x < -10 else 0.2*x - 1),\n",
        "        'VC': lambda x : 1 if x > 15 else (0 if x < 10 else 0.2*x - 2),\n",
        "    }\n",
        "\n",
        "  def __get_dial_vals(self):\n",
        "    return {\n",
        "        'VC': -1,\n",
        "        'CO': -0.5,\n",
        "        'MC': -0.25,\n",
        "        'BA': 0,\n",
        "        'MH': 0.25,\n",
        "        'HO': 0.5,\n",
        "        'VH': 1     \n",
        "    }\n",
        "\n",
        "  def __crisp_to_fuzzy(self, val, mf):\n",
        "    fuzzy_values = []\n",
        "    for x, myu_x in mf.items():\n",
        "      if myu_x(val) > 0: fuzzy_values.append((x, myu_x(val)))\n",
        "    return fuzzy_values\n",
        "\n",
        "  def __fuzzify(self, td):\n",
        "    return self.__crisp_to_fuzzy(td, self.td_mf)\n",
        "\n",
        "  def __apply_rule_base(self, td):\n",
        "    dial_fuzzy = []\n",
        "    for t in td:\n",
        "        i = self.mapping[t[0]]\n",
        "        dial_fuzzy.append((self.rule_base[i], t[1]))\n",
        "    return dial_fuzzy\n",
        "\n",
        "  def __get_dial_area(self, x):\n",
        "    y = self.dial_base * x\n",
        "    return 0.5 * (self.dial_base - (1 - x) * y)\n",
        "\n",
        "  def __defuzzify(self, dial_fuzzy):\n",
        "    areas = []\n",
        "    for df in dial_fuzzy:\n",
        "      areas.append((self.dial_vals[df[0]], self.__get_dial_area(df[1])))\n",
        "    dial = 0\n",
        "    total_area = 0\n",
        "    for a in areas:\n",
        "      dial += a[0] * a[1]\n",
        "      total_area += a[1]\n",
        "    return dial / total_area\n",
        "\n",
        "  def get_dial(self, td):\n",
        "    td_fuzzy = self.__fuzzify(td)\n",
        "    dial_fuzzy = self.__apply_rule_base(td_fuzzy)\n",
        "    dial = self.__defuzzify(dial_fuzzy)\n",
        "    return dial"
      ],
      "metadata": {
        "id": "ufZKvJvcraLt"
      },
      "execution_count": 2,
      "outputs": []
    },
    {
      "cell_type": "code",
      "source": [
        "controller = ACController()"
      ],
      "metadata": {
        "id": "63Gh5EmdrbF2"
      },
      "execution_count": 3,
      "outputs": []
    },
    {
      "cell_type": "code",
      "source": [
        "dial_value = controller.get_dial(td = -20)"
      ],
      "metadata": {
        "id": "YohRY23HrcAd"
      },
      "execution_count": 4,
      "outputs": []
    },
    {
      "cell_type": "code",
      "source": [
        "print(f'Dial Value: {dial_value}')"
      ],
      "metadata": {
        "colab": {
          "base_uri": "https://localhost:8080/"
        },
        "id": "FjiTD3jHrc5t",
        "outputId": "aa800bf4-1dec-4c21-a0c6-d66050696d89"
      },
      "execution_count": 5,
      "outputs": [
        {
          "output_type": "stream",
          "name": "stdout",
          "text": [
            "Dial Value: -1.0\n"
          ]
        }
      ]
    }
  ]
}